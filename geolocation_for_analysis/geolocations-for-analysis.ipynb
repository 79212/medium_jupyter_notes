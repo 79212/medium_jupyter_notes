{
 "cells": [
  {
   "cell_type": "markdown",
   "metadata": {},
   "source": [
    "# 1. Dnipro regions locations"
   ]
  },
  {
   "cell_type": "markdown",
   "metadata": {},
   "source": [
    "## Get names from wiki"
   ]
  },
  {
   "cell_type": "code",
   "execution_count": 1,
   "metadata": {},
   "outputs": [],
   "source": [
    "import requests\n",
    "from bs4 import BeautifulSoup"
   ]
  },
  {
   "cell_type": "code",
   "execution_count": 3,
   "metadata": {},
   "outputs": [],
   "source": [
    "content = requests.get('https://en.wikipedia.org/wiki/Dnipro')\n",
    "parser = BeautifulSoup(content.text, 'html.parser')"
   ]
  },
  {
   "cell_type": "code",
   "execution_count": 4,
   "metadata": {},
   "outputs": [],
   "source": [
    "regions_td = parser.body.find_all(\"table\", class_ = \"wikitable\")[0].select('tr')"
   ]
  },
  {
   "cell_type": "code",
   "execution_count": 6,
   "metadata": {},
   "outputs": [],
   "source": [
    "dnipro_regions = [element.select('td')[1].text.replace('\\n', '') for element in regions_td[1:]]"
   ]
  },
  {
   "cell_type": "code",
   "execution_count": 7,
   "metadata": {},
   "outputs": [
    {
     "data": {
      "text/plain": [
       "['Amur-Nyzhnodniprovskyi',\n",
       " 'Shevchenkivskyi',\n",
       " 'Sobornyi',\n",
       " 'Industrialnyi',\n",
       " 'Tsentralnyi',\n",
       " 'Chechelivskyi',\n",
       " 'Novokodatskyi',\n",
       " 'Samarskyi']"
      ]
     },
     "execution_count": 7,
     "metadata": {},
     "output_type": "execute_result"
    }
   ],
   "source": [
    "dnipro_regions"
   ]
  },
  {
   "cell_type": "code",
   "execution_count": 8,
   "metadata": {},
   "outputs": [],
   "source": [
    "import pandas as pd"
   ]
  },
  {
   "cell_type": "code",
   "execution_count": 9,
   "metadata": {},
   "outputs": [],
   "source": [
    "dnipro_regions = pd.DataFrame({'Region' : dnipro_regions})"
   ]
  },
  {
   "cell_type": "code",
   "execution_count": 10,
   "metadata": {},
   "outputs": [
    {
     "data": {
      "text/html": [
       "<div>\n",
       "<style scoped>\n",
       "    .dataframe tbody tr th:only-of-type {\n",
       "        vertical-align: middle;\n",
       "    }\n",
       "\n",
       "    .dataframe tbody tr th {\n",
       "        vertical-align: top;\n",
       "    }\n",
       "\n",
       "    .dataframe thead th {\n",
       "        text-align: right;\n",
       "    }\n",
       "</style>\n",
       "<table border=\"1\" class=\"dataframe\">\n",
       "  <thead>\n",
       "    <tr style=\"text-align: right;\">\n",
       "      <th></th>\n",
       "      <th>Region</th>\n",
       "    </tr>\n",
       "  </thead>\n",
       "  <tbody>\n",
       "    <tr>\n",
       "      <td>0</td>\n",
       "      <td>Amur-Nyzhnodniprovskyi</td>\n",
       "    </tr>\n",
       "    <tr>\n",
       "      <td>1</td>\n",
       "      <td>Shevchenkivskyi</td>\n",
       "    </tr>\n",
       "    <tr>\n",
       "      <td>2</td>\n",
       "      <td>Sobornyi</td>\n",
       "    </tr>\n",
       "    <tr>\n",
       "      <td>3</td>\n",
       "      <td>Industrialnyi</td>\n",
       "    </tr>\n",
       "    <tr>\n",
       "      <td>4</td>\n",
       "      <td>Tsentralnyi</td>\n",
       "    </tr>\n",
       "    <tr>\n",
       "      <td>5</td>\n",
       "      <td>Chechelivskyi</td>\n",
       "    </tr>\n",
       "    <tr>\n",
       "      <td>6</td>\n",
       "      <td>Novokodatskyi</td>\n",
       "    </tr>\n",
       "    <tr>\n",
       "      <td>7</td>\n",
       "      <td>Samarskyi</td>\n",
       "    </tr>\n",
       "  </tbody>\n",
       "</table>\n",
       "</div>"
      ],
      "text/plain": [
       "                   Region\n",
       "0  Amur-Nyzhnodniprovskyi\n",
       "1         Shevchenkivskyi\n",
       "2                Sobornyi\n",
       "3           Industrialnyi\n",
       "4             Tsentralnyi\n",
       "5           Chechelivskyi\n",
       "6           Novokodatskyi\n",
       "7               Samarskyi"
      ]
     },
     "execution_count": 10,
     "metadata": {},
     "output_type": "execute_result"
    }
   ],
   "source": [
    "dnipro_regions"
   ]
  },
  {
   "cell_type": "markdown",
   "metadata": {},
   "source": [
    "## Get city-regions locations with geopy"
   ]
  },
  {
   "cell_type": "code",
   "execution_count": 11,
   "metadata": {},
   "outputs": [],
   "source": [
    "from geopy.geocoders import Nominatim\n",
    "from geopy.extra.rate_limiter import RateLimiter"
   ]
  },
  {
   "cell_type": "code",
   "execution_count": 12,
   "metadata": {},
   "outputs": [],
   "source": [
    "geolocator = Nominatim(user_agent=\"dnipro\",timeout=10)\n",
    "geocode = RateLimiter(geolocator.geocode, min_delay_seconds=2)"
   ]
  },
  {
   "cell_type": "code",
   "execution_count": 14,
   "metadata": {},
   "outputs": [],
   "source": [
    "longitudes = []\n",
    "latitudes = []\n",
    "for region in dnipro_regions['Region']:\n",
    "    location = geocode('{}, Dnipro'.format(region))\n",
    "    longitudes.append(location.longitude)\n",
    "    latitudes.append(location.latitude)"
   ]
  },
  {
   "cell_type": "code",
   "execution_count": 16,
   "metadata": {},
   "outputs": [
    {
     "data": {
      "text/html": [
       "<div>\n",
       "<style scoped>\n",
       "    .dataframe tbody tr th:only-of-type {\n",
       "        vertical-align: middle;\n",
       "    }\n",
       "\n",
       "    .dataframe tbody tr th {\n",
       "        vertical-align: top;\n",
       "    }\n",
       "\n",
       "    .dataframe thead th {\n",
       "        text-align: right;\n",
       "    }\n",
       "</style>\n",
       "<table border=\"1\" class=\"dataframe\">\n",
       "  <thead>\n",
       "    <tr style=\"text-align: right;\">\n",
       "      <th></th>\n",
       "      <th>Region</th>\n",
       "      <th>Longitude</th>\n",
       "      <th>Latitude</th>\n",
       "    </tr>\n",
       "  </thead>\n",
       "  <tbody>\n",
       "    <tr>\n",
       "      <td>0</td>\n",
       "      <td>Amur-Nyzhnodniprovskyi</td>\n",
       "      <td>35.041783</td>\n",
       "      <td>48.494564</td>\n",
       "    </tr>\n",
       "    <tr>\n",
       "      <td>1</td>\n",
       "      <td>Shevchenkivskyi</td>\n",
       "      <td>35.041771</td>\n",
       "      <td>48.468022</td>\n",
       "    </tr>\n",
       "    <tr>\n",
       "      <td>2</td>\n",
       "      <td>Sobornyi</td>\n",
       "      <td>35.058700</td>\n",
       "      <td>48.463425</td>\n",
       "    </tr>\n",
       "    <tr>\n",
       "      <td>3</td>\n",
       "      <td>Industrialnyi</td>\n",
       "      <td>35.078433</td>\n",
       "      <td>48.521464</td>\n",
       "    </tr>\n",
       "    <tr>\n",
       "      <td>4</td>\n",
       "      <td>Tsentralnyi</td>\n",
       "      <td>35.024010</td>\n",
       "      <td>48.459391</td>\n",
       "    </tr>\n",
       "    <tr>\n",
       "      <td>5</td>\n",
       "      <td>Chechelivskyi</td>\n",
       "      <td>34.981957</td>\n",
       "      <td>48.438557</td>\n",
       "    </tr>\n",
       "    <tr>\n",
       "      <td>6</td>\n",
       "      <td>Novokodatskyi</td>\n",
       "      <td>34.946035</td>\n",
       "      <td>48.485689</td>\n",
       "    </tr>\n",
       "    <tr>\n",
       "      <td>7</td>\n",
       "      <td>Samarskyi</td>\n",
       "      <td>35.158380</td>\n",
       "      <td>48.534687</td>\n",
       "    </tr>\n",
       "  </tbody>\n",
       "</table>\n",
       "</div>"
      ],
      "text/plain": [
       "                   Region  Longitude   Latitude\n",
       "0  Amur-Nyzhnodniprovskyi  35.041783  48.494564\n",
       "1         Shevchenkivskyi  35.041771  48.468022\n",
       "2                Sobornyi  35.058700  48.463425\n",
       "3           Industrialnyi  35.078433  48.521464\n",
       "4             Tsentralnyi  35.024010  48.459391\n",
       "5           Chechelivskyi  34.981957  48.438557\n",
       "6           Novokodatskyi  34.946035  48.485689\n",
       "7               Samarskyi  35.158380  48.534687"
      ]
     },
     "execution_count": 16,
     "metadata": {},
     "output_type": "execute_result"
    }
   ],
   "source": [
    "dnipro_regions['Longitude'] = longitudes\n",
    "dnipro_regions['Latitude'] = latitudes\n",
    "dnipro_regions"
   ]
  },
  {
   "cell_type": "markdown",
   "metadata": {},
   "source": [
    "# 2. Get cafes and shops details with Foursquare"
   ]
  },
  {
   "cell_type": "code",
   "execution_count": 19,
   "metadata": {},
   "outputs": [],
   "source": [
    "CLIENT_ID = 'H2SID3VSTK5L101KYA3NVCRHFESPHCYIULK5CK3PGI1GGJ1D' # your Foursquare ID\n",
    "CLIENT_SECRET = 'NKCDE13L2NX5IWWD5MSCRJH0GIFL5DJWGBUVFQFIVHDXOBF5' # your Foursquare Secret\n",
    "VERSION = '20200128' # Foursquare API version"
   ]
  },
  {
   "cell_type": "markdown",
   "metadata": {},
   "source": [
    "## 2.1. Get venues"
   ]
  },
  {
   "cell_type": "code",
   "execution_count": 31,
   "metadata": {},
   "outputs": [],
   "source": [
    "def getNearbyVenues(names, latitudes, longitudes, radius=500):\n",
    "    venues_list=[]\n",
    "    for name, lat, lng in zip(names, latitudes, longitudes):\n",
    "        url = 'https://api.foursquare.com/v2/venues/explore?&client_id={}&client_secret={}&v={}&ll={},{}&radius={}&limit={}'.format(\n",
    "               CLIENT_ID, CLIENT_SECRET, VERSION, lat, lng, 3000, 200)\n",
    "        results = requests.get(url).json()[\"response\"]['groups'][0]['items']\n",
    "        \n",
    "        venues_list.extend([\n",
    "            [name, v['venue']['name'], v['venue']['id'],\n",
    "            v['venue']['location']['lat'], v['venue']['location']['lng'],  \n",
    "            v['venue']['categories'][0]['name']]\n",
    "        for v in results])\n",
    "\n",
    "    nearby_venues = pd.DataFrame(venues_list)\n",
    "    nearby_venues.columns = ['Region', 'Venue', 'Venue ID', 'Venue Latitude', 'Venue Longitude', 'Venue Primary Category']\n",
    "    \n",
    "    return(nearby_venues)"
   ]
  },
  {
   "cell_type": "code",
   "execution_count": 32,
   "metadata": {},
   "outputs": [],
   "source": [
    "dnipro_venues = getNearbyVenues(names=dnipro_regions['Region'],\n",
    "                                latitudes=dnipro_regions['Latitude'],\n",
    "                                longitudes=dnipro_regions['Longitude']\n",
    "                                )"
   ]
  },
  {
   "cell_type": "code",
   "execution_count": 33,
   "metadata": {},
   "outputs": [
    {
     "data": {
      "text/html": [
       "<div>\n",
       "<style scoped>\n",
       "    .dataframe tbody tr th:only-of-type {\n",
       "        vertical-align: middle;\n",
       "    }\n",
       "\n",
       "    .dataframe tbody tr th {\n",
       "        vertical-align: top;\n",
       "    }\n",
       "\n",
       "    .dataframe thead th {\n",
       "        text-align: right;\n",
       "    }\n",
       "</style>\n",
       "<table border=\"1\" class=\"dataframe\">\n",
       "  <thead>\n",
       "    <tr style=\"text-align: right;\">\n",
       "      <th></th>\n",
       "      <th>Region</th>\n",
       "      <th>Venue</th>\n",
       "      <th>Venue ID</th>\n",
       "      <th>Venue Latitude</th>\n",
       "      <th>Venue Longitude</th>\n",
       "      <th>Venue Primary Category</th>\n",
       "    </tr>\n",
       "  </thead>\n",
       "  <tbody>\n",
       "    <tr>\n",
       "      <td>0</td>\n",
       "      <td>Amur-Nyzhnodniprovskyi</td>\n",
       "      <td>Набережна на ж/м \"Сонячний\"</td>\n",
       "      <td>4ead591a490170218c3e8eac</td>\n",
       "      <td>48.482077</td>\n",
       "      <td>35.064039</td>\n",
       "      <td>Waterfront</td>\n",
       "    </tr>\n",
       "    <tr>\n",
       "      <td>1</td>\n",
       "      <td>Amur-Nyzhnodniprovskyi</td>\n",
       "      <td>Джайпур</td>\n",
       "      <td>4e75e0861495be51714f2764</td>\n",
       "      <td>48.474490</td>\n",
       "      <td>35.028832</td>\n",
       "      <td>Gym / Fitness Center</td>\n",
       "    </tr>\n",
       "    <tr>\n",
       "      <td>2</td>\n",
       "      <td>Amur-Nyzhnodniprovskyi</td>\n",
       "      <td>Dance Republic</td>\n",
       "      <td>55a7a750498e39b5deec0a05</td>\n",
       "      <td>48.477264</td>\n",
       "      <td>35.024195</td>\n",
       "      <td>Dance Studio</td>\n",
       "    </tr>\n",
       "    <tr>\n",
       "      <td>3</td>\n",
       "      <td>Amur-Nyzhnodniprovskyi</td>\n",
       "      <td>Лазерхаус</td>\n",
       "      <td>5502f0e7498e26f68f81b356</td>\n",
       "      <td>48.470317</td>\n",
       "      <td>35.043921</td>\n",
       "      <td>Health &amp; Beauty Service</td>\n",
       "    </tr>\n",
       "    <tr>\n",
       "      <td>4</td>\n",
       "      <td>Amur-Nyzhnodniprovskyi</td>\n",
       "      <td>Fozzy / Фоззи</td>\n",
       "      <td>52a6c1bc11d2f10095c778b6</td>\n",
       "      <td>48.483839</td>\n",
       "      <td>35.063883</td>\n",
       "      <td>Supermarket</td>\n",
       "    </tr>\n",
       "  </tbody>\n",
       "</table>\n",
       "</div>"
      ],
      "text/plain": [
       "                   Region                        Venue  \\\n",
       "0  Amur-Nyzhnodniprovskyi  Набережна на ж/м \"Сонячний\"   \n",
       "1  Amur-Nyzhnodniprovskyi                      Джайпур   \n",
       "2  Amur-Nyzhnodniprovskyi               Dance Republic   \n",
       "3  Amur-Nyzhnodniprovskyi                    Лазерхаус   \n",
       "4  Amur-Nyzhnodniprovskyi                Fozzy / Фоззи   \n",
       "\n",
       "                   Venue ID  Venue Latitude  Venue Longitude  \\\n",
       "0  4ead591a490170218c3e8eac       48.482077        35.064039   \n",
       "1  4e75e0861495be51714f2764       48.474490        35.028832   \n",
       "2  55a7a750498e39b5deec0a05       48.477264        35.024195   \n",
       "3  5502f0e7498e26f68f81b356       48.470317        35.043921   \n",
       "4  52a6c1bc11d2f10095c778b6       48.483839        35.063883   \n",
       "\n",
       "    Venue Primary Category  \n",
       "0               Waterfront  \n",
       "1     Gym / Fitness Center  \n",
       "2             Dance Studio  \n",
       "3  Health & Beauty Service  \n",
       "4              Supermarket  "
      ]
     },
     "execution_count": 33,
     "metadata": {},
     "output_type": "execute_result"
    }
   ],
   "source": [
    "dnipro_venues.head()"
   ]
  },
  {
   "cell_type": "code",
   "execution_count": 35,
   "metadata": {},
   "outputs": [
    {
     "data": {
      "text/plain": [
       "(571, 6)"
      ]
     },
     "execution_count": 35,
     "metadata": {},
     "output_type": "execute_result"
    }
   ],
   "source": [
    "dnipro_venues.shape"
   ]
  },
  {
   "cell_type": "code",
   "execution_count": 36,
   "metadata": {},
   "outputs": [],
   "source": [
    "venues_filter_food = ['Supermarket', 'French Restaurant', 'Coffee Shop', 'Modern European Restaurant', 'Sushi Restaurant',\n",
    "                      'Fast Food Restaurant', 'Grocery Store', 'Italian Restaurant', 'Café', 'Beer Store', 'BBQ Joint',\n",
    "                      'Seafood Restaurant', 'Caucasian Restaurant', 'Restaurant', 'Bakery', 'Comfort Food Restaurant',\n",
    "                      'Pizza Place', 'Bar', 'Burger Joint', 'Dessert Shop', 'Tea Room', 'Cocktail Bar',\n",
    "                      'Vegetarian / Vegan Restaurant','Irish Pub', 'Soup Place', 'Pub', 'Eastern European Restaurant',\n",
    "                      'Gastropub', 'Ramen Restaurant', 'Food Court', 'Middle Eastern Restaurant', 'Food Truck',\n",
    "                      'Theme Restaurant', 'Juice Bar', 'Asian Restaurant', 'Ukrainian Restaurant', 'Food & Drink Shop']"
   ]
  },
  {
   "cell_type": "code",
   "execution_count": 37,
   "metadata": {},
   "outputs": [],
   "source": [
    "dnipro_venues_food = dnipro_venues.loc[dnipro_venues['Venue Primary Category'].isin(venues_filter_food)].drop_duplicates(subset = ['Venue ID'])"
   ]
  },
  {
   "cell_type": "code",
   "execution_count": 39,
   "metadata": {},
   "outputs": [
    {
     "data": {
      "text/html": [
       "<div>\n",
       "<style scoped>\n",
       "    .dataframe tbody tr th:only-of-type {\n",
       "        vertical-align: middle;\n",
       "    }\n",
       "\n",
       "    .dataframe tbody tr th {\n",
       "        vertical-align: top;\n",
       "    }\n",
       "\n",
       "    .dataframe thead th {\n",
       "        text-align: right;\n",
       "    }\n",
       "</style>\n",
       "<table border=\"1\" class=\"dataframe\">\n",
       "  <thead>\n",
       "    <tr style=\"text-align: right;\">\n",
       "      <th></th>\n",
       "      <th>Region</th>\n",
       "      <th>Venue</th>\n",
       "      <th>Venue ID</th>\n",
       "      <th>Venue Latitude</th>\n",
       "      <th>Venue Longitude</th>\n",
       "      <th>Venue Primary Category</th>\n",
       "    </tr>\n",
       "  </thead>\n",
       "  <tbody>\n",
       "    <tr>\n",
       "      <td>4</td>\n",
       "      <td>Amur-Nyzhnodniprovskyi</td>\n",
       "      <td>Fozzy / Фоззи</td>\n",
       "      <td>52a6c1bc11d2f10095c778b6</td>\n",
       "      <td>48.483839</td>\n",
       "      <td>35.063883</td>\n",
       "      <td>Supermarket</td>\n",
       "    </tr>\n",
       "    <tr>\n",
       "      <td>6</td>\n",
       "      <td>Amur-Nyzhnodniprovskyi</td>\n",
       "      <td>Pa-Si-Ju</td>\n",
       "      <td>558cfeb5498e6a17da7dfe6f</td>\n",
       "      <td>48.473249</td>\n",
       "      <td>35.029125</td>\n",
       "      <td>French Restaurant</td>\n",
       "    </tr>\n",
       "    <tr>\n",
       "      <td>11</td>\n",
       "      <td>Amur-Nyzhnodniprovskyi</td>\n",
       "      <td>HAVE Coffee</td>\n",
       "      <td>5a2fa09e69e77b22f361c493</td>\n",
       "      <td>48.469386</td>\n",
       "      <td>35.038928</td>\n",
       "      <td>Coffee Shop</td>\n",
       "    </tr>\n",
       "    <tr>\n",
       "      <td>13</td>\n",
       "      <td>Amur-Nyzhnodniprovskyi</td>\n",
       "      <td>Суши Набухико</td>\n",
       "      <td>5691301f498e3250c1f2ac16</td>\n",
       "      <td>48.469579</td>\n",
       "      <td>35.052557</td>\n",
       "      <td>Sushi Restaurant</td>\n",
       "    </tr>\n",
       "    <tr>\n",
       "      <td>14</td>\n",
       "      <td>Amur-Nyzhnodniprovskyi</td>\n",
       "      <td>Confetti | Конфетти</td>\n",
       "      <td>5bbefb002aff31002b5f9d9b</td>\n",
       "      <td>48.483092</td>\n",
       "      <td>35.063147</td>\n",
       "      <td>Modern European Restaurant</td>\n",
       "    </tr>\n",
       "  </tbody>\n",
       "</table>\n",
       "</div>"
      ],
      "text/plain": [
       "                    Region                Venue                  Venue ID  \\\n",
       "4   Amur-Nyzhnodniprovskyi        Fozzy / Фоззи  52a6c1bc11d2f10095c778b6   \n",
       "6   Amur-Nyzhnodniprovskyi             Pa-Si-Ju  558cfeb5498e6a17da7dfe6f   \n",
       "11  Amur-Nyzhnodniprovskyi          HAVE Coffee  5a2fa09e69e77b22f361c493   \n",
       "13  Amur-Nyzhnodniprovskyi        Суши Набухико  5691301f498e3250c1f2ac16   \n",
       "14  Amur-Nyzhnodniprovskyi  Confetti | Конфетти  5bbefb002aff31002b5f9d9b   \n",
       "\n",
       "    Venue Latitude  Venue Longitude      Venue Primary Category  \n",
       "4        48.483839        35.063883                 Supermarket  \n",
       "6        48.473249        35.029125           French Restaurant  \n",
       "11       48.469386        35.038928                 Coffee Shop  \n",
       "13       48.469579        35.052557            Sushi Restaurant  \n",
       "14       48.483092        35.063147  Modern European Restaurant  "
      ]
     },
     "execution_count": 39,
     "metadata": {},
     "output_type": "execute_result"
    }
   ],
   "source": [
    "dnipro_venues_food.head()"
   ]
  },
  {
   "cell_type": "code",
   "execution_count": 42,
   "metadata": {},
   "outputs": [
    {
     "data": {
      "text/plain": [
       "(165, 6)"
      ]
     },
     "execution_count": 42,
     "metadata": {},
     "output_type": "execute_result"
    }
   ],
   "source": [
    "dnipro_venues_food.shape"
   ]
  },
  {
   "cell_type": "code",
   "execution_count": 41,
   "metadata": {},
   "outputs": [],
   "source": [
    "dnipro_venues_food = dnipro_venues_food.reset_index(drop=True)"
   ]
  },
  {
   "cell_type": "markdown",
   "metadata": {},
   "source": [
    "## 2.2. Get venues info"
   ]
  },
  {
   "cell_type": "code",
   "execution_count": 45,
   "metadata": {},
   "outputs": [],
   "source": [
    "import numpy as np"
   ]
  },
  {
   "cell_type": "code",
   "execution_count": 43,
   "metadata": {},
   "outputs": [],
   "source": [
    "def getVenuesDetails(ids):\n",
    "    venues_list=[]\n",
    "    for venue_id in ids:\n",
    "        url_venue = 'https://api.foursquare.com/v2/venues/{}?&client_id={}&client_secret={}&v={}'.format(\n",
    "                    venue_id, CLIENT_ID, CLIENT_SECRET, VERSION)\n",
    "        venue_results = requests.get(url_venue).json()[\"response\"]['venue']\n",
    "        \n",
    "        venues_list.append([\n",
    "            venue_results['location']['formattedAddress'],\n",
    "            [el['name'] for el in venue_results['categories']],\n",
    "            venue_results['likes']['count'] if 'likes' in venue_results else 0, \n",
    "            venue_results['rating'] if 'rating' in venue_results else 0,\n",
    "            venue_results['hours']['isOpen'] if 'hours' in venue_results else np.nan\n",
    "        ])\n",
    "\n",
    "    venues_table = pd.DataFrame(venues_list)\n",
    "    venues_table.columns = ['Venue Address', 'Venue Categories', 'Venue Likes', 'Venue Rating', 'Venue Is Open']\n",
    "    \n",
    "    return venues_table"
   ]
  },
  {
   "cell_type": "code",
   "execution_count": 46,
   "metadata": {},
   "outputs": [],
   "source": [
    "venues_table = getVenuesDetails(dnipro_venues_food['Venue ID'].values)"
   ]
  },
  {
   "cell_type": "code",
   "execution_count": 47,
   "metadata": {},
   "outputs": [],
   "source": [
    "dnipro_venues_food = pd.concat([dnipro_venues_food, venues_table], axis=1, join='outer')"
   ]
  },
  {
   "cell_type": "code",
   "execution_count": 48,
   "metadata": {},
   "outputs": [
    {
     "data": {
      "text/html": [
       "<div>\n",
       "<style scoped>\n",
       "    .dataframe tbody tr th:only-of-type {\n",
       "        vertical-align: middle;\n",
       "    }\n",
       "\n",
       "    .dataframe tbody tr th {\n",
       "        vertical-align: top;\n",
       "    }\n",
       "\n",
       "    .dataframe thead th {\n",
       "        text-align: right;\n",
       "    }\n",
       "</style>\n",
       "<table border=\"1\" class=\"dataframe\">\n",
       "  <thead>\n",
       "    <tr style=\"text-align: right;\">\n",
       "      <th></th>\n",
       "      <th>Region</th>\n",
       "      <th>Venue</th>\n",
       "      <th>Venue ID</th>\n",
       "      <th>Venue Latitude</th>\n",
       "      <th>Venue Longitude</th>\n",
       "      <th>Venue Primary Category</th>\n",
       "      <th>Venue Address</th>\n",
       "      <th>Venue Categories</th>\n",
       "      <th>Venue Likes</th>\n",
       "      <th>Venue Rating</th>\n",
       "      <th>Venue Is Open</th>\n",
       "    </tr>\n",
       "  </thead>\n",
       "  <tbody>\n",
       "    <tr>\n",
       "      <td>0</td>\n",
       "      <td>Amur-Nyzhnodniprovskyi</td>\n",
       "      <td>Fozzy / Фоззи</td>\n",
       "      <td>52a6c1bc11d2f10095c778b6</td>\n",
       "      <td>48.483839</td>\n",
       "      <td>35.063883</td>\n",
       "      <td>Supermarket</td>\n",
       "      <td>[ТРЦ \"Вавілон\" (вул. Маршала Малиновського, 2)...</td>\n",
       "      <td>[Supermarket, Grocery Store]</td>\n",
       "      <td>374</td>\n",
       "      <td>7.9</td>\n",
       "      <td>False</td>\n",
       "    </tr>\n",
       "    <tr>\n",
       "      <td>1</td>\n",
       "      <td>Amur-Nyzhnodniprovskyi</td>\n",
       "      <td>Pa-Si-Ju</td>\n",
       "      <td>558cfeb5498e6a17da7dfe6f</td>\n",
       "      <td>48.473249</td>\n",
       "      <td>35.029125</td>\n",
       "      <td>French Restaurant</td>\n",
       "      <td>[просп. Дмитра Яворницького, 90, Дніпро, Україна]</td>\n",
       "      <td>[French Restaurant]</td>\n",
       "      <td>231</td>\n",
       "      <td>8.4</td>\n",
       "      <td>False</td>\n",
       "    </tr>\n",
       "    <tr>\n",
       "      <td>2</td>\n",
       "      <td>Amur-Nyzhnodniprovskyi</td>\n",
       "      <td>HAVE Coffee</td>\n",
       "      <td>5a2fa09e69e77b22f361c493</td>\n",
       "      <td>48.469386</td>\n",
       "      <td>35.038928</td>\n",
       "      <td>Coffee Shop</td>\n",
       "      <td>[просп. Дмитра Яворницького, 70а (вул. Юліуша ...</td>\n",
       "      <td>[Coffee Shop]</td>\n",
       "      <td>80</td>\n",
       "      <td>8.4</td>\n",
       "      <td>False</td>\n",
       "    </tr>\n",
       "    <tr>\n",
       "      <td>3</td>\n",
       "      <td>Amur-Nyzhnodniprovskyi</td>\n",
       "      <td>Суши Набухико</td>\n",
       "      <td>5691301f498e3250c1f2ac16</td>\n",
       "      <td>48.469579</td>\n",
       "      <td>35.052557</td>\n",
       "      <td>Sushi Restaurant</td>\n",
       "      <td>[вул. Січеславська Набережна, 31-А, Дніпро, Ук...</td>\n",
       "      <td>[Sushi Restaurant]</td>\n",
       "      <td>42</td>\n",
       "      <td>8.2</td>\n",
       "      <td>False</td>\n",
       "    </tr>\n",
       "    <tr>\n",
       "      <td>4</td>\n",
       "      <td>Amur-Nyzhnodniprovskyi</td>\n",
       "      <td>Confetti | Конфетти</td>\n",
       "      <td>5bbefb002aff31002b5f9d9b</td>\n",
       "      <td>48.483092</td>\n",
       "      <td>35.063147</td>\n",
       "      <td>Modern European Restaurant</td>\n",
       "      <td>[ул. Малиновского, 2, Дніпро, Україна]</td>\n",
       "      <td>[Modern European Restaurant]</td>\n",
       "      <td>8</td>\n",
       "      <td>7.5</td>\n",
       "      <td>NaN</td>\n",
       "    </tr>\n",
       "  </tbody>\n",
       "</table>\n",
       "</div>"
      ],
      "text/plain": [
       "                   Region                Venue                  Venue ID  \\\n",
       "0  Amur-Nyzhnodniprovskyi        Fozzy / Фоззи  52a6c1bc11d2f10095c778b6   \n",
       "1  Amur-Nyzhnodniprovskyi             Pa-Si-Ju  558cfeb5498e6a17da7dfe6f   \n",
       "2  Amur-Nyzhnodniprovskyi          HAVE Coffee  5a2fa09e69e77b22f361c493   \n",
       "3  Amur-Nyzhnodniprovskyi        Суши Набухико  5691301f498e3250c1f2ac16   \n",
       "4  Amur-Nyzhnodniprovskyi  Confetti | Конфетти  5bbefb002aff31002b5f9d9b   \n",
       "\n",
       "   Venue Latitude  Venue Longitude      Venue Primary Category  \\\n",
       "0       48.483839        35.063883                 Supermarket   \n",
       "1       48.473249        35.029125           French Restaurant   \n",
       "2       48.469386        35.038928                 Coffee Shop   \n",
       "3       48.469579        35.052557            Sushi Restaurant   \n",
       "4       48.483092        35.063147  Modern European Restaurant   \n",
       "\n",
       "                                       Venue Address  \\\n",
       "0  [ТРЦ \"Вавілон\" (вул. Маршала Малиновського, 2)...   \n",
       "1  [просп. Дмитра Яворницького, 90, Дніпро, Україна]   \n",
       "2  [просп. Дмитра Яворницького, 70а (вул. Юліуша ...   \n",
       "3  [вул. Січеславська Набережна, 31-А, Дніпро, Ук...   \n",
       "4             [ул. Малиновского, 2, Дніпро, Україна]   \n",
       "\n",
       "               Venue Categories  Venue Likes  Venue Rating Venue Is Open  \n",
       "0  [Supermarket, Grocery Store]          374           7.9         False  \n",
       "1           [French Restaurant]          231           8.4         False  \n",
       "2                 [Coffee Shop]           80           8.4         False  \n",
       "3            [Sushi Restaurant]           42           8.2         False  \n",
       "4  [Modern European Restaurant]            8           7.5           NaN  "
      ]
     },
     "execution_count": 48,
     "metadata": {},
     "output_type": "execute_result"
    }
   ],
   "source": [
    "dnipro_venues_food.head()"
   ]
  },
  {
   "cell_type": "code",
   "execution_count": 58,
   "metadata": {},
   "outputs": [
    {
     "data": {
      "text/plain": [
       "(165, 11)"
      ]
     },
     "execution_count": 58,
     "metadata": {},
     "output_type": "execute_result"
    }
   ],
   "source": [
    "dnipro_venues_food.shape"
   ]
  },
  {
   "cell_type": "markdown",
   "metadata": {},
   "source": [
    "# 3. Visualize cafes and shops with folium"
   ]
  },
  {
   "cell_type": "code",
   "execution_count": 50,
   "metadata": {},
   "outputs": [],
   "source": [
    "import folium"
   ]
  },
  {
   "cell_type": "code",
   "execution_count": 53,
   "metadata": {},
   "outputs": [],
   "source": [
    "map_venues_food = folium.Map(location=[dnipro_regions.iloc[0, 2], dnipro_regions.iloc[0, 1]], zoom_start=12)\n",
    "\n",
    "import matplotlib.cm as cm\n",
    "import matplotlib.colors as colors\n",
    "\n",
    "colors_array = cm.rainbow(np.linspace(0, 1, dnipro_regions.shape[0]))\n",
    "rainbow = [colors.rgb2hex(i) for i in colors_array]\n",
    "\n",
    "for lat, lng, name, region in zip(dnipro_venues_food['Venue Latitude'],\n",
    "                                  dnipro_venues_food['Venue Longitude'],\n",
    "                                  dnipro_venues_food['Venue'],\n",
    "                                  dnipro_venues_food['Region']):\n",
    "    label = folium.Popup('{}, {}'.format(name, region), parse_html=True)\n",
    "    folium.CircleMarker(\n",
    "        [lat, lng],\n",
    "        radius=5,\n",
    "        popup= label,\n",
    "        color=rainbow[dnipro_regions.index[dnipro_regions['Region'] == region].tolist()[0]],\n",
    "        fill=True,\n",
    "        fill_color='#3186cc',\n",
    "        fill_opacity=0.7,\n",
    "        parse_html=False).add_to(map_venues_food)"
   ]
  },
  {
   "cell_type": "code",
   "execution_count": 54,
   "metadata": {},
   "outputs": [
    {
     "data": {
      "text/html": [
       "<div style=\"width:100%;\"><div style=\"position:relative;width:100%;height:0;padding-bottom:60%;\"><iframe src=\"data:text/html;charset=utf-8;base64,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\" style=\"position:absolute;width:100%;height:100%;left:0;top:0;border:none !important;\" allowfullscreen webkitallowfullscreen mozallowfullscreen></iframe></div></div>"
      ],
      "text/plain": [
       "<folium.folium.Map at 0x1b93bab5248>"
      ]
     },
     "execution_count": 54,
     "metadata": {},
     "output_type": "execute_result"
    }
   ],
   "source": [
    "map_venues_food"
   ]
  },
  {
   "cell_type": "markdown",
   "metadata": {},
   "source": [
    "# 4. Use the data"
   ]
  },
  {
   "cell_type": "markdown",
   "metadata": {},
   "source": [
    "## Number of venues by region"
   ]
  },
  {
   "cell_type": "code",
   "execution_count": 55,
   "metadata": {},
   "outputs": [
    {
     "data": {
      "text/plain": [
       "Region\n",
       "Amur-Nyzhnodniprovskyi    43\n",
       "Chechelivskyi             24\n",
       "Industrialnyi             17\n",
       "Novokodatskyi             15\n",
       "Shevchenkivskyi           46\n",
       "Sobornyi                  11\n",
       "Tsentralnyi                9\n",
       "Name: Venue, dtype: int64"
      ]
     },
     "execution_count": 55,
     "metadata": {},
     "output_type": "execute_result"
    }
   ],
   "source": [
    "grouped_venues = dnipro_venues_food.groupby('Region').count()['Venue']\n",
    "grouped_venues"
   ]
  },
  {
   "cell_type": "code",
   "execution_count": 56,
   "metadata": {},
   "outputs": [],
   "source": [
    "import matplotlib as mpl\n",
    "import matplotlib.pyplot as plt\n",
    "%matplotlib inline"
   ]
  },
  {
   "cell_type": "code",
   "execution_count": 59,
   "metadata": {},
   "outputs": [
    {
     "data": {
      "text/plain": [
       "<matplotlib.axes._subplots.AxesSubplot at 0x1b93c078908>"
      ]
     },
     "execution_count": 59,
     "metadata": {},
     "output_type": "execute_result"
    },
    {
     "data": {
      "image/png": "[encoded data removed]",
      "text/plain": [
       "<Figure size 432x288 with 1 Axes>"
      ]
     },
     "metadata": {
      "needs_background": "light"
     },
     "output_type": "display_data"
    }
   ],
   "source": [
    "grouped_venues.plot.bar()"
   ]
  },
  {
   "cell_type": "markdown",
   "metadata": {},
   "source": [
    "## Top-5 categories"
   ]
  },
  {
   "cell_type": "code",
   "execution_count": 60,
   "metadata": {},
   "outputs": [
    {
     "data": {
      "text/html": [
       "<div>\n",
       "<style scoped>\n",
       "    .dataframe tbody tr th:only-of-type {\n",
       "        vertical-align: middle;\n",
       "    }\n",
       "\n",
       "    .dataframe tbody tr th {\n",
       "        vertical-align: top;\n",
       "    }\n",
       "\n",
       "    .dataframe thead th {\n",
       "        text-align: right;\n",
       "    }\n",
       "</style>\n",
       "<table border=\"1\" class=\"dataframe\">\n",
       "  <thead>\n",
       "    <tr style=\"text-align: right;\">\n",
       "      <th></th>\n",
       "      <th>Region</th>\n",
       "      <th>Asian Restaurant</th>\n",
       "      <th>BBQ Joint</th>\n",
       "      <th>Bakery</th>\n",
       "      <th>Bar</th>\n",
       "      <th>Beer Store</th>\n",
       "      <th>Burger Joint</th>\n",
       "      <th>Café</th>\n",
       "      <th>Caucasian Restaurant</th>\n",
       "      <th>Cocktail Bar</th>\n",
       "      <th>...</th>\n",
       "      <th>Ramen Restaurant</th>\n",
       "      <th>Restaurant</th>\n",
       "      <th>Seafood Restaurant</th>\n",
       "      <th>Soup Place</th>\n",
       "      <th>Supermarket</th>\n",
       "      <th>Sushi Restaurant</th>\n",
       "      <th>Tea Room</th>\n",
       "      <th>Theme Restaurant</th>\n",
       "      <th>Ukrainian Restaurant</th>\n",
       "      <th>Vegetarian / Vegan Restaurant</th>\n",
       "    </tr>\n",
       "  </thead>\n",
       "  <tbody>\n",
       "    <tr>\n",
       "      <td>0</td>\n",
       "      <td>Amur-Nyzhnodniprovskyi</td>\n",
       "      <td>0</td>\n",
       "      <td>0</td>\n",
       "      <td>0</td>\n",
       "      <td>0</td>\n",
       "      <td>0</td>\n",
       "      <td>0</td>\n",
       "      <td>0</td>\n",
       "      <td>0</td>\n",
       "      <td>0</td>\n",
       "      <td>...</td>\n",
       "      <td>0</td>\n",
       "      <td>0</td>\n",
       "      <td>0</td>\n",
       "      <td>0</td>\n",
       "      <td>1</td>\n",
       "      <td>0</td>\n",
       "      <td>0</td>\n",
       "      <td>0</td>\n",
       "      <td>0</td>\n",
       "      <td>0</td>\n",
       "    </tr>\n",
       "    <tr>\n",
       "      <td>1</td>\n",
       "      <td>Amur-Nyzhnodniprovskyi</td>\n",
       "      <td>0</td>\n",
       "      <td>0</td>\n",
       "      <td>0</td>\n",
       "      <td>0</td>\n",
       "      <td>0</td>\n",
       "      <td>0</td>\n",
       "      <td>0</td>\n",
       "      <td>0</td>\n",
       "      <td>0</td>\n",
       "      <td>...</td>\n",
       "      <td>0</td>\n",
       "      <td>0</td>\n",
       "      <td>0</td>\n",
       "      <td>0</td>\n",
       "      <td>0</td>\n",
       "      <td>0</td>\n",
       "      <td>0</td>\n",
       "      <td>0</td>\n",
       "      <td>0</td>\n",
       "      <td>0</td>\n",
       "    </tr>\n",
       "    <tr>\n",
       "      <td>2</td>\n",
       "      <td>Amur-Nyzhnodniprovskyi</td>\n",
       "      <td>0</td>\n",
       "      <td>0</td>\n",
       "      <td>0</td>\n",
       "      <td>0</td>\n",
       "      <td>0</td>\n",
       "      <td>0</td>\n",
       "      <td>0</td>\n",
       "      <td>0</td>\n",
       "      <td>0</td>\n",
       "      <td>...</td>\n",
       "      <td>0</td>\n",
       "      <td>0</td>\n",
       "      <td>0</td>\n",
       "      <td>0</td>\n",
       "      <td>0</td>\n",
       "      <td>0</td>\n",
       "      <td>0</td>\n",
       "      <td>0</td>\n",
       "      <td>0</td>\n",
       "      <td>0</td>\n",
       "    </tr>\n",
       "    <tr>\n",
       "      <td>3</td>\n",
       "      <td>Amur-Nyzhnodniprovskyi</td>\n",
       "      <td>0</td>\n",
       "      <td>0</td>\n",
       "      <td>0</td>\n",
       "      <td>0</td>\n",
       "      <td>0</td>\n",
       "      <td>0</td>\n",
       "      <td>0</td>\n",
       "      <td>0</td>\n",
       "      <td>0</td>\n",
       "      <td>...</td>\n",
       "      <td>0</td>\n",
       "      <td>0</td>\n",
       "      <td>0</td>\n",
       "      <td>0</td>\n",
       "      <td>0</td>\n",
       "      <td>1</td>\n",
       "      <td>0</td>\n",
       "      <td>0</td>\n",
       "      <td>0</td>\n",
       "      <td>0</td>\n",
       "    </tr>\n",
       "    <tr>\n",
       "      <td>4</td>\n",
       "      <td>Amur-Nyzhnodniprovskyi</td>\n",
       "      <td>0</td>\n",
       "      <td>0</td>\n",
       "      <td>0</td>\n",
       "      <td>0</td>\n",
       "      <td>0</td>\n",
       "      <td>0</td>\n",
       "      <td>0</td>\n",
       "      <td>0</td>\n",
       "      <td>0</td>\n",
       "      <td>...</td>\n",
       "      <td>0</td>\n",
       "      <td>0</td>\n",
       "      <td>0</td>\n",
       "      <td>0</td>\n",
       "      <td>0</td>\n",
       "      <td>0</td>\n",
       "      <td>0</td>\n",
       "      <td>0</td>\n",
       "      <td>0</td>\n",
       "      <td>0</td>\n",
       "    </tr>\n",
       "  </tbody>\n",
       "</table>\n",
       "<p>5 rows × 38 columns</p>\n",
       "</div>"
      ],
      "text/plain": [
       "                   Region  Asian Restaurant  BBQ Joint  Bakery  Bar  \\\n",
       "0  Amur-Nyzhnodniprovskyi                 0          0       0    0   \n",
       "1  Amur-Nyzhnodniprovskyi                 0          0       0    0   \n",
       "2  Amur-Nyzhnodniprovskyi                 0          0       0    0   \n",
       "3  Amur-Nyzhnodniprovskyi                 0          0       0    0   \n",
       "4  Amur-Nyzhnodniprovskyi                 0          0       0    0   \n",
       "\n",
       "   Beer Store  Burger Joint  Café  Caucasian Restaurant  Cocktail Bar  ...  \\\n",
       "0           0             0     0                     0             0  ...   \n",
       "1           0             0     0                     0             0  ...   \n",
       "2           0             0     0                     0             0  ...   \n",
       "3           0             0     0                     0             0  ...   \n",
       "4           0             0     0                     0             0  ...   \n",
       "\n",
       "   Ramen Restaurant  Restaurant  Seafood Restaurant  Soup Place  Supermarket  \\\n",
       "0                 0           0                   0           0            1   \n",
       "1                 0           0                   0           0            0   \n",
       "2                 0           0                   0           0            0   \n",
       "3                 0           0                   0           0            0   \n",
       "4                 0           0                   0           0            0   \n",
       "\n",
       "   Sushi Restaurant  Tea Room  Theme Restaurant  Ukrainian Restaurant  \\\n",
       "0                 0         0                 0                     0   \n",
       "1                 0         0                 0                     0   \n",
       "2                 0         0                 0                     0   \n",
       "3                 1         0                 0                     0   \n",
       "4                 0         0                 0                     0   \n",
       "\n",
       "   Vegetarian / Vegan Restaurant  \n",
       "0                              0  \n",
       "1                              0  \n",
       "2                              0  \n",
       "3                              0  \n",
       "4                              0  \n",
       "\n",
       "[5 rows x 38 columns]"
      ]
     },
     "execution_count": 60,
     "metadata": {},
     "output_type": "execute_result"
    }
   ],
   "source": [
    "dnipro_onehot = pd.get_dummies(dnipro_venues_food[['Venue Primary Category']], prefix=\"\", prefix_sep=\"\")\n",
    "dnipro_onehot['Region'] = dnipro_venues_food['Region'] \n",
    "\n",
    "fixed_columns = [dnipro_onehot.columns[-1]] + list(dnipro_onehot.columns[:-1])\n",
    "dnipro_onehot = dnipro_onehot[fixed_columns]\n",
    "\n",
    "dnipro_onehot.head()"
   ]
  },
  {
   "cell_type": "code",
   "execution_count": 61,
   "metadata": {},
   "outputs": [
    {
     "data": {
      "text/html": [
       "<div>\n",
       "<style scoped>\n",
       "    .dataframe tbody tr th:only-of-type {\n",
       "        vertical-align: middle;\n",
       "    }\n",
       "\n",
       "    .dataframe tbody tr th {\n",
       "        vertical-align: top;\n",
       "    }\n",
       "\n",
       "    .dataframe thead th {\n",
       "        text-align: right;\n",
       "    }\n",
       "</style>\n",
       "<table border=\"1\" class=\"dataframe\">\n",
       "  <thead>\n",
       "    <tr style=\"text-align: right;\">\n",
       "      <th></th>\n",
       "      <th>Region</th>\n",
       "      <th>#1 Most common Venue</th>\n",
       "      <th>#2 Most common Venue</th>\n",
       "      <th>#3 Most common Venue</th>\n",
       "      <th>#4 Most common Venue</th>\n",
       "      <th>#5 Most common Venue</th>\n",
       "    </tr>\n",
       "  </thead>\n",
       "  <tbody>\n",
       "    <tr>\n",
       "      <td>0</td>\n",
       "      <td>Amur-Nyzhnodniprovskyi</td>\n",
       "      <td>Coffee Shop</td>\n",
       "      <td>Café</td>\n",
       "      <td>Supermarket</td>\n",
       "      <td>Fast Food Restaurant</td>\n",
       "      <td>Beer Store</td>\n",
       "    </tr>\n",
       "    <tr>\n",
       "      <td>1</td>\n",
       "      <td>Chechelivskyi</td>\n",
       "      <td>Café</td>\n",
       "      <td>Coffee Shop</td>\n",
       "      <td>Supermarket</td>\n",
       "      <td>Grocery Store</td>\n",
       "      <td>Restaurant</td>\n",
       "    </tr>\n",
       "    <tr>\n",
       "      <td>2</td>\n",
       "      <td>Industrialnyi</td>\n",
       "      <td>Bakery</td>\n",
       "      <td>Grocery Store</td>\n",
       "      <td>Eastern European Restaurant</td>\n",
       "      <td>Restaurant</td>\n",
       "      <td>Gastropub</td>\n",
       "    </tr>\n",
       "    <tr>\n",
       "      <td>3</td>\n",
       "      <td>Novokodatskyi</td>\n",
       "      <td>Supermarket</td>\n",
       "      <td>Grocery Store</td>\n",
       "      <td>Café</td>\n",
       "      <td>BBQ Joint</td>\n",
       "      <td>Bakery</td>\n",
       "    </tr>\n",
       "    <tr>\n",
       "      <td>4</td>\n",
       "      <td>Shevchenkivskyi</td>\n",
       "      <td>Coffee Shop</td>\n",
       "      <td>Modern European Restaurant</td>\n",
       "      <td>Tea Room</td>\n",
       "      <td>Bakery</td>\n",
       "      <td>Gastropub</td>\n",
       "    </tr>\n",
       "    <tr>\n",
       "      <td>5</td>\n",
       "      <td>Sobornyi</td>\n",
       "      <td>Restaurant</td>\n",
       "      <td>Café</td>\n",
       "      <td>Vegetarian / Vegan Restaurant</td>\n",
       "      <td>Irish Pub</td>\n",
       "      <td>Comfort Food Restaurant</td>\n",
       "    </tr>\n",
       "    <tr>\n",
       "      <td>6</td>\n",
       "      <td>Tsentralnyi</td>\n",
       "      <td>Coffee Shop</td>\n",
       "      <td>Restaurant</td>\n",
       "      <td>Café</td>\n",
       "      <td>Vegetarian / Vegan Restaurant</td>\n",
       "      <td>Tea Room</td>\n",
       "    </tr>\n",
       "  </tbody>\n",
       "</table>\n",
       "</div>"
      ],
      "text/plain": [
       "                   Region #1 Most common Venue        #2 Most common Venue  \\\n",
       "0  Amur-Nyzhnodniprovskyi          Coffee Shop                        Café   \n",
       "1           Chechelivskyi                 Café                 Coffee Shop   \n",
       "2           Industrialnyi               Bakery               Grocery Store   \n",
       "3           Novokodatskyi          Supermarket               Grocery Store   \n",
       "4         Shevchenkivskyi          Coffee Shop  Modern European Restaurant   \n",
       "5                Sobornyi           Restaurant                        Café   \n",
       "6             Tsentralnyi          Coffee Shop                  Restaurant   \n",
       "\n",
       "            #3 Most common Venue           #4 Most common Venue  \\\n",
       "0                    Supermarket           Fast Food Restaurant   \n",
       "1                    Supermarket                  Grocery Store   \n",
       "2    Eastern European Restaurant                     Restaurant   \n",
       "3                           Café                      BBQ Joint   \n",
       "4                       Tea Room                         Bakery   \n",
       "5  Vegetarian / Vegan Restaurant                      Irish Pub   \n",
       "6                           Café  Vegetarian / Vegan Restaurant   \n",
       "\n",
       "      #5 Most common Venue  \n",
       "0               Beer Store  \n",
       "1               Restaurant  \n",
       "2                Gastropub  \n",
       "3                   Bakery  \n",
       "4                Gastropub  \n",
       "5  Comfort Food Restaurant  \n",
       "6                 Tea Room  "
      ]
     },
     "execution_count": 61,
     "metadata": {},
     "output_type": "execute_result"
    }
   ],
   "source": [
    "def return_most_common_venues(row, num_top_venues):\n",
    "    return row.iloc[1:].sort_values(ascending=False).index.values[0:num_top_venues]\n",
    "\n",
    "dnipro_grouped_top_5 = dnipro_onehot.groupby('Region').sum().reset_index()\n",
    "\n",
    "columns = ['Region']\n",
    "columns.extend(['#{} Most common Venue'.format(i) for i in range(1,6)])\n",
    "\n",
    "dnipro_grouped_top_5_sorted = pd.DataFrame(columns=columns)\n",
    "dnipro_grouped_top_5_sorted['Region'] = dnipro_grouped_top_5['Region']\n",
    "\n",
    "for ind in np.arange(dnipro_grouped_top_5.shape[0]):\n",
    "    dnipro_grouped_top_5_sorted.iloc[ind, 1:] = return_most_common_venues(dnipro_grouped_top_5.iloc[ind, :], 5)\n",
    "    \n",
    "dnipro_grouped_top_5_sorted"
   ]
  },
  {
   "cell_type": "markdown",
   "metadata": {},
   "source": [
    "## Prepare data for the recommendation system"
   ]
  },
  {
   "cell_type": "code",
   "execution_count": 77,
   "metadata": {},
   "outputs": [],
   "source": [
    "k_prepared_venues = dnipro_venues_food.copy()"
   ]
  },
  {
   "cell_type": "code",
   "execution_count": 78,
   "metadata": {},
   "outputs": [],
   "source": [
    "k_prepared_venues = pd.concat([k_prepared_venues, dnipro_onehot.drop(columns=['Region'])], axis = 1)"
   ]
  },
  {
   "cell_type": "code",
   "execution_count": 79,
   "metadata": {},
   "outputs": [
    {
     "data": {
      "text/html": [
       "<div>\n",
       "<style scoped>\n",
       "    .dataframe tbody tr th:only-of-type {\n",
       "        vertical-align: middle;\n",
       "    }\n",
       "\n",
       "    .dataframe tbody tr th {\n",
       "        vertical-align: top;\n",
       "    }\n",
       "\n",
       "    .dataframe thead th {\n",
       "        text-align: right;\n",
       "    }\n",
       "</style>\n",
       "<table border=\"1\" class=\"dataframe\">\n",
       "  <thead>\n",
       "    <tr style=\"text-align: right;\">\n",
       "      <th></th>\n",
       "      <th>Region</th>\n",
       "      <th>Venue</th>\n",
       "      <th>Venue ID</th>\n",
       "      <th>Venue Latitude</th>\n",
       "      <th>Venue Longitude</th>\n",
       "      <th>Venue Primary Category</th>\n",
       "      <th>Venue Address</th>\n",
       "      <th>Venue Categories</th>\n",
       "      <th>Venue Likes</th>\n",
       "      <th>Venue Rating</th>\n",
       "      <th>...</th>\n",
       "      <th>Ramen Restaurant</th>\n",
       "      <th>Restaurant</th>\n",
       "      <th>Seafood Restaurant</th>\n",
       "      <th>Soup Place</th>\n",
       "      <th>Supermarket</th>\n",
       "      <th>Sushi Restaurant</th>\n",
       "      <th>Tea Room</th>\n",
       "      <th>Theme Restaurant</th>\n",
       "      <th>Ukrainian Restaurant</th>\n",
       "      <th>Vegetarian / Vegan Restaurant</th>\n",
       "    </tr>\n",
       "  </thead>\n",
       "  <tbody>\n",
       "    <tr>\n",
       "      <td>0</td>\n",
       "      <td>Amur-Nyzhnodniprovskyi</td>\n",
       "      <td>Fozzy / Фоззи</td>\n",
       "      <td>52a6c1bc11d2f10095c778b6</td>\n",
       "      <td>48.483839</td>\n",
       "      <td>35.063883</td>\n",
       "      <td>Supermarket</td>\n",
       "      <td>[ТРЦ \"Вавілон\" (вул. Маршала Малиновського, 2)...</td>\n",
       "      <td>[Supermarket, Grocery Store]</td>\n",
       "      <td>374</td>\n",
       "      <td>7.9</td>\n",
       "      <td>...</td>\n",
       "      <td>0</td>\n",
       "      <td>0</td>\n",
       "      <td>0</td>\n",
       "      <td>0</td>\n",
       "      <td>1</td>\n",
       "      <td>0</td>\n",
       "      <td>0</td>\n",
       "      <td>0</td>\n",
       "      <td>0</td>\n",
       "      <td>0</td>\n",
       "    </tr>\n",
       "    <tr>\n",
       "      <td>1</td>\n",
       "      <td>Amur-Nyzhnodniprovskyi</td>\n",
       "      <td>Pa-Si-Ju</td>\n",
       "      <td>558cfeb5498e6a17da7dfe6f</td>\n",
       "      <td>48.473249</td>\n",
       "      <td>35.029125</td>\n",
       "      <td>French Restaurant</td>\n",
       "      <td>[просп. Дмитра Яворницького, 90, Дніпро, Україна]</td>\n",
       "      <td>[French Restaurant]</td>\n",
       "      <td>231</td>\n",
       "      <td>8.4</td>\n",
       "      <td>...</td>\n",
       "      <td>0</td>\n",
       "      <td>0</td>\n",
       "      <td>0</td>\n",
       "      <td>0</td>\n",
       "      <td>0</td>\n",
       "      <td>0</td>\n",
       "      <td>0</td>\n",
       "      <td>0</td>\n",
       "      <td>0</td>\n",
       "      <td>0</td>\n",
       "    </tr>\n",
       "    <tr>\n",
       "      <td>2</td>\n",
       "      <td>Amur-Nyzhnodniprovskyi</td>\n",
       "      <td>HAVE Coffee</td>\n",
       "      <td>5a2fa09e69e77b22f361c493</td>\n",
       "      <td>48.469386</td>\n",
       "      <td>35.038928</td>\n",
       "      <td>Coffee Shop</td>\n",
       "      <td>[просп. Дмитра Яворницького, 70а (вул. Юліуша ...</td>\n",
       "      <td>[Coffee Shop]</td>\n",
       "      <td>80</td>\n",
       "      <td>8.4</td>\n",
       "      <td>...</td>\n",
       "      <td>0</td>\n",
       "      <td>0</td>\n",
       "      <td>0</td>\n",
       "      <td>0</td>\n",
       "      <td>0</td>\n",
       "      <td>0</td>\n",
       "      <td>0</td>\n",
       "      <td>0</td>\n",
       "      <td>0</td>\n",
       "      <td>0</td>\n",
       "    </tr>\n",
       "    <tr>\n",
       "      <td>3</td>\n",
       "      <td>Amur-Nyzhnodniprovskyi</td>\n",
       "      <td>Суши Набухико</td>\n",
       "      <td>5691301f498e3250c1f2ac16</td>\n",
       "      <td>48.469579</td>\n",
       "      <td>35.052557</td>\n",
       "      <td>Sushi Restaurant</td>\n",
       "      <td>[вул. Січеславська Набережна, 31-А, Дніпро, Ук...</td>\n",
       "      <td>[Sushi Restaurant]</td>\n",
       "      <td>42</td>\n",
       "      <td>8.2</td>\n",
       "      <td>...</td>\n",
       "      <td>0</td>\n",
       "      <td>0</td>\n",
       "      <td>0</td>\n",
       "      <td>0</td>\n",
       "      <td>0</td>\n",
       "      <td>1</td>\n",
       "      <td>0</td>\n",
       "      <td>0</td>\n",
       "      <td>0</td>\n",
       "      <td>0</td>\n",
       "    </tr>\n",
       "    <tr>\n",
       "      <td>4</td>\n",
       "      <td>Amur-Nyzhnodniprovskyi</td>\n",
       "      <td>Confetti | Конфетти</td>\n",
       "      <td>5bbefb002aff31002b5f9d9b</td>\n",
       "      <td>48.483092</td>\n",
       "      <td>35.063147</td>\n",
       "      <td>Modern European Restaurant</td>\n",
       "      <td>[ул. Малиновского, 2, Дніпро, Україна]</td>\n",
       "      <td>[Modern European Restaurant]</td>\n",
       "      <td>8</td>\n",
       "      <td>7.5</td>\n",
       "      <td>...</td>\n",
       "      <td>0</td>\n",
       "      <td>0</td>\n",
       "      <td>0</td>\n",
       "      <td>0</td>\n",
       "      <td>0</td>\n",
       "      <td>0</td>\n",
       "      <td>0</td>\n",
       "      <td>0</td>\n",
       "      <td>0</td>\n",
       "      <td>0</td>\n",
       "    </tr>\n",
       "  </tbody>\n",
       "</table>\n",
       "<p>5 rows × 48 columns</p>\n",
       "</div>"
      ],
      "text/plain": [
       "                   Region                Venue                  Venue ID  \\\n",
       "0  Amur-Nyzhnodniprovskyi        Fozzy / Фоззи  52a6c1bc11d2f10095c778b6   \n",
       "1  Amur-Nyzhnodniprovskyi             Pa-Si-Ju  558cfeb5498e6a17da7dfe6f   \n",
       "2  Amur-Nyzhnodniprovskyi          HAVE Coffee  5a2fa09e69e77b22f361c493   \n",
       "3  Amur-Nyzhnodniprovskyi        Суши Набухико  5691301f498e3250c1f2ac16   \n",
       "4  Amur-Nyzhnodniprovskyi  Confetti | Конфетти  5bbefb002aff31002b5f9d9b   \n",
       "\n",
       "   Venue Latitude  Venue Longitude      Venue Primary Category  \\\n",
       "0       48.483839        35.063883                 Supermarket   \n",
       "1       48.473249        35.029125           French Restaurant   \n",
       "2       48.469386        35.038928                 Coffee Shop   \n",
       "3       48.469579        35.052557            Sushi Restaurant   \n",
       "4       48.483092        35.063147  Modern European Restaurant   \n",
       "\n",
       "                                       Venue Address  \\\n",
       "0  [ТРЦ \"Вавілон\" (вул. Маршала Малиновського, 2)...   \n",
       "1  [просп. Дмитра Яворницького, 90, Дніпро, Україна]   \n",
       "2  [просп. Дмитра Яворницького, 70а (вул. Юліуша ...   \n",
       "3  [вул. Січеславська Набережна, 31-А, Дніпро, Ук...   \n",
       "4             [ул. Малиновского, 2, Дніпро, Україна]   \n",
       "\n",
       "               Venue Categories  Venue Likes  Venue Rating  ...  \\\n",
       "0  [Supermarket, Grocery Store]          374           7.9  ...   \n",
       "1           [French Restaurant]          231           8.4  ...   \n",
       "2                 [Coffee Shop]           80           8.4  ...   \n",
       "3            [Sushi Restaurant]           42           8.2  ...   \n",
       "4  [Modern European Restaurant]            8           7.5  ...   \n",
       "\n",
       "  Ramen Restaurant  Restaurant  Seafood Restaurant  Soup Place  Supermarket  \\\n",
       "0                0           0                   0           0            1   \n",
       "1                0           0                   0           0            0   \n",
       "2                0           0                   0           0            0   \n",
       "3                0           0                   0           0            0   \n",
       "4                0           0                   0           0            0   \n",
       "\n",
       "   Sushi Restaurant  Tea Room  Theme Restaurant  Ukrainian Restaurant  \\\n",
       "0                 0         0                 0                     0   \n",
       "1                 0         0                 0                     0   \n",
       "2                 0         0                 0                     0   \n",
       "3                 1         0                 0                     0   \n",
       "4                 0         0                 0                     0   \n",
       "\n",
       "   Vegetarian / Vegan Restaurant  \n",
       "0                              0  \n",
       "1                              0  \n",
       "2                              0  \n",
       "3                              0  \n",
       "4                              0  \n",
       "\n",
       "[5 rows x 48 columns]"
      ]
     },
     "execution_count": 79,
     "metadata": {},
     "output_type": "execute_result"
    }
   ],
   "source": [
    "k_prepared_venues.head()"
   ]
  },
  {
   "cell_type": "code",
   "execution_count": 80,
   "metadata": {},
   "outputs": [
    {
     "data": {
      "text/plain": [
       "(165, 48)"
      ]
     },
     "execution_count": 80,
     "metadata": {},
     "output_type": "execute_result"
    }
   ],
   "source": [
    "k_prepared_venues.shape"
   ]
  },
  {
   "cell_type": "markdown",
   "metadata": {},
   "source": [
    "### turn geolocation into the distance to my current location"
   ]
  },
  {
   "cell_type": "code",
   "execution_count": 71,
   "metadata": {},
   "outputs": [],
   "source": [
    "import geocoder\n",
    "g = geocoder.ip('me')"
   ]
  },
  {
   "cell_type": "code",
   "execution_count": 72,
   "metadata": {},
   "outputs": [],
   "source": [
    "from geopy import distance\n",
    "def calc_distance(row):\n",
    "    return distance.distance(g.latlng, (row['Venue Latitude'], row['Venue Longitude'])).km"
   ]
  },
  {
   "cell_type": "code",
   "execution_count": 81,
   "metadata": {},
   "outputs": [],
   "source": [
    "k_prepared_venues['Distance'] = k_prepared_venues.apply(calc_distance, axis=1)"
   ]
  },
  {
   "cell_type": "code",
   "execution_count": 82,
   "metadata": {},
   "outputs": [],
   "source": [
    "k_prepared_venues.drop(columns=['Venue Latitude', 'Venue Longitude'], inplace=True)"
   ]
  },
  {
   "cell_type": "code",
   "execution_count": 91,
   "metadata": {},
   "outputs": [],
   "source": [
    "new_columns = list(k_prepared_venues.columns[:8].values)\n",
    "new_columns.extend(['Distance'])\n",
    "new_columns.extend(k_prepared_venues.columns[8:-1].values)\n",
    "k_prepared_venues = k_prepared_venues[new_columns]"
   ]
  },
  {
   "cell_type": "code",
   "execution_count": 92,
   "metadata": {},
   "outputs": [
    {
     "data": {
      "text/html": [
       "<div>\n",
       "<style scoped>\n",
       "    .dataframe tbody tr th:only-of-type {\n",
       "        vertical-align: middle;\n",
       "    }\n",
       "\n",
       "    .dataframe tbody tr th {\n",
       "        vertical-align: top;\n",
       "    }\n",
       "\n",
       "    .dataframe thead th {\n",
       "        text-align: right;\n",
       "    }\n",
       "</style>\n",
       "<table border=\"1\" class=\"dataframe\">\n",
       "  <thead>\n",
       "    <tr style=\"text-align: right;\">\n",
       "      <th></th>\n",
       "      <th>Region</th>\n",
       "      <th>Venue</th>\n",
       "      <th>Venue ID</th>\n",
       "      <th>Venue Primary Category</th>\n",
       "      <th>Venue Address</th>\n",
       "      <th>Venue Categories</th>\n",
       "      <th>Venue Likes</th>\n",
       "      <th>Venue Rating</th>\n",
       "      <th>Distance</th>\n",
       "      <th>Venue Is Open</th>\n",
       "      <th>...</th>\n",
       "      <th>Ramen Restaurant</th>\n",
       "      <th>Restaurant</th>\n",
       "      <th>Seafood Restaurant</th>\n",
       "      <th>Soup Place</th>\n",
       "      <th>Supermarket</th>\n",
       "      <th>Sushi Restaurant</th>\n",
       "      <th>Tea Room</th>\n",
       "      <th>Theme Restaurant</th>\n",
       "      <th>Ukrainian Restaurant</th>\n",
       "      <th>Vegetarian / Vegan Restaurant</th>\n",
       "    </tr>\n",
       "  </thead>\n",
       "  <tbody>\n",
       "    <tr>\n",
       "      <td>0</td>\n",
       "      <td>Amur-Nyzhnodniprovskyi</td>\n",
       "      <td>Fozzy / Фоззи</td>\n",
       "      <td>52a6c1bc11d2f10095c778b6</td>\n",
       "      <td>Supermarket</td>\n",
       "      <td>[ТРЦ \"Вавілон\" (вул. Маршала Малиновського, 2)...</td>\n",
       "      <td>[Supermarket, Grocery Store]</td>\n",
       "      <td>374</td>\n",
       "      <td>7.9</td>\n",
       "      <td>3.307693</td>\n",
       "      <td>False</td>\n",
       "      <td>...</td>\n",
       "      <td>0</td>\n",
       "      <td>0</td>\n",
       "      <td>0</td>\n",
       "      <td>0</td>\n",
       "      <td>1</td>\n",
       "      <td>0</td>\n",
       "      <td>0</td>\n",
       "      <td>0</td>\n",
       "      <td>0</td>\n",
       "      <td>0</td>\n",
       "    </tr>\n",
       "    <tr>\n",
       "      <td>1</td>\n",
       "      <td>Amur-Nyzhnodniprovskyi</td>\n",
       "      <td>Pa-Si-Ju</td>\n",
       "      <td>558cfeb5498e6a17da7dfe6f</td>\n",
       "      <td>French Restaurant</td>\n",
       "      <td>[просп. Дмитра Яворницького, 90, Дніпро, Україна]</td>\n",
       "      <td>[French Restaurant]</td>\n",
       "      <td>231</td>\n",
       "      <td>8.4</td>\n",
       "      <td>1.702071</td>\n",
       "      <td>False</td>\n",
       "      <td>...</td>\n",
       "      <td>0</td>\n",
       "      <td>0</td>\n",
       "      <td>0</td>\n",
       "      <td>0</td>\n",
       "      <td>0</td>\n",
       "      <td>0</td>\n",
       "      <td>0</td>\n",
       "      <td>0</td>\n",
       "      <td>0</td>\n",
       "      <td>0</td>\n",
       "    </tr>\n",
       "    <tr>\n",
       "      <td>2</td>\n",
       "      <td>Amur-Nyzhnodniprovskyi</td>\n",
       "      <td>HAVE Coffee</td>\n",
       "      <td>5a2fa09e69e77b22f361c493</td>\n",
       "      <td>Coffee Shop</td>\n",
       "      <td>[просп. Дмитра Яворницького, 70а (вул. Юліуша ...</td>\n",
       "      <td>[Coffee Shop]</td>\n",
       "      <td>80</td>\n",
       "      <td>8.4</td>\n",
       "      <td>1.121841</td>\n",
       "      <td>False</td>\n",
       "      <td>...</td>\n",
       "      <td>0</td>\n",
       "      <td>0</td>\n",
       "      <td>0</td>\n",
       "      <td>0</td>\n",
       "      <td>0</td>\n",
       "      <td>0</td>\n",
       "      <td>0</td>\n",
       "      <td>0</td>\n",
       "      <td>0</td>\n",
       "      <td>0</td>\n",
       "    </tr>\n",
       "    <tr>\n",
       "      <td>3</td>\n",
       "      <td>Amur-Nyzhnodniprovskyi</td>\n",
       "      <td>Суши Набухико</td>\n",
       "      <td>5691301f498e3250c1f2ac16</td>\n",
       "      <td>Sushi Restaurant</td>\n",
       "      <td>[вул. Січеславська Набережна, 31-А, Дніпро, Ук...</td>\n",
       "      <td>[Sushi Restaurant]</td>\n",
       "      <td>42</td>\n",
       "      <td>8.2</td>\n",
       "      <td>1.540025</td>\n",
       "      <td>False</td>\n",
       "      <td>...</td>\n",
       "      <td>0</td>\n",
       "      <td>0</td>\n",
       "      <td>0</td>\n",
       "      <td>0</td>\n",
       "      <td>0</td>\n",
       "      <td>1</td>\n",
       "      <td>0</td>\n",
       "      <td>0</td>\n",
       "      <td>0</td>\n",
       "      <td>0</td>\n",
       "    </tr>\n",
       "    <tr>\n",
       "      <td>4</td>\n",
       "      <td>Amur-Nyzhnodniprovskyi</td>\n",
       "      <td>Confetti | Конфетти</td>\n",
       "      <td>5bbefb002aff31002b5f9d9b</td>\n",
       "      <td>Modern European Restaurant</td>\n",
       "      <td>[ул. Малиновского, 2, Дніпро, Україна]</td>\n",
       "      <td>[Modern European Restaurant]</td>\n",
       "      <td>8</td>\n",
       "      <td>7.5</td>\n",
       "      <td>3.208433</td>\n",
       "      <td>NaN</td>\n",
       "      <td>...</td>\n",
       "      <td>0</td>\n",
       "      <td>0</td>\n",
       "      <td>0</td>\n",
       "      <td>0</td>\n",
       "      <td>0</td>\n",
       "      <td>0</td>\n",
       "      <td>0</td>\n",
       "      <td>0</td>\n",
       "      <td>0</td>\n",
       "      <td>0</td>\n",
       "    </tr>\n",
       "  </tbody>\n",
       "</table>\n",
       "<p>5 rows × 47 columns</p>\n",
       "</div>"
      ],
      "text/plain": [
       "                   Region                Venue                  Venue ID  \\\n",
       "0  Amur-Nyzhnodniprovskyi        Fozzy / Фоззи  52a6c1bc11d2f10095c778b6   \n",
       "1  Amur-Nyzhnodniprovskyi             Pa-Si-Ju  558cfeb5498e6a17da7dfe6f   \n",
       "2  Amur-Nyzhnodniprovskyi          HAVE Coffee  5a2fa09e69e77b22f361c493   \n",
       "3  Amur-Nyzhnodniprovskyi        Суши Набухико  5691301f498e3250c1f2ac16   \n",
       "4  Amur-Nyzhnodniprovskyi  Confetti | Конфетти  5bbefb002aff31002b5f9d9b   \n",
       "\n",
       "       Venue Primary Category  \\\n",
       "0                 Supermarket   \n",
       "1           French Restaurant   \n",
       "2                 Coffee Shop   \n",
       "3            Sushi Restaurant   \n",
       "4  Modern European Restaurant   \n",
       "\n",
       "                                       Venue Address  \\\n",
       "0  [ТРЦ \"Вавілон\" (вул. Маршала Малиновського, 2)...   \n",
       "1  [просп. Дмитра Яворницького, 90, Дніпро, Україна]   \n",
       "2  [просп. Дмитра Яворницького, 70а (вул. Юліуша ...   \n",
       "3  [вул. Січеславська Набережна, 31-А, Дніпро, Ук...   \n",
       "4             [ул. Малиновского, 2, Дніпро, Україна]   \n",
       "\n",
       "               Venue Categories  Venue Likes  Venue Rating  Distance  \\\n",
       "0  [Supermarket, Grocery Store]          374           7.9  3.307693   \n",
       "1           [French Restaurant]          231           8.4  1.702071   \n",
       "2                 [Coffee Shop]           80           8.4  1.121841   \n",
       "3            [Sushi Restaurant]           42           8.2  1.540025   \n",
       "4  [Modern European Restaurant]            8           7.5  3.208433   \n",
       "\n",
       "  Venue Is Open  ...  Ramen Restaurant  Restaurant  Seafood Restaurant  \\\n",
       "0         False  ...                 0           0                   0   \n",
       "1         False  ...                 0           0                   0   \n",
       "2         False  ...                 0           0                   0   \n",
       "3         False  ...                 0           0                   0   \n",
       "4           NaN  ...                 0           0                   0   \n",
       "\n",
       "   Soup Place  Supermarket  Sushi Restaurant  Tea Room  Theme Restaurant  \\\n",
       "0           0            1                 0         0                 0   \n",
       "1           0            0                 0         0                 0   \n",
       "2           0            0                 0         0                 0   \n",
       "3           0            0                 1         0                 0   \n",
       "4           0            0                 0         0                 0   \n",
       "\n",
       "   Ukrainian Restaurant  Vegetarian / Vegan Restaurant  \n",
       "0                     0                              0  \n",
       "1                     0                              0  \n",
       "2                     0                              0  \n",
       "3                     0                              0  \n",
       "4                     0                              0  \n",
       "\n",
       "[5 rows x 47 columns]"
      ]
     },
     "execution_count": 92,
     "metadata": {},
     "output_type": "execute_result"
    }
   ],
   "source": [
    "k_prepared_venues.head()"
   ]
  },
  {
   "cell_type": "code",
   "execution_count": 93,
   "metadata": {},
   "outputs": [],
   "source": [
    "for index, row in k_prepared_venues.iterrows():\n",
    "    for cat in row['Venue Categories']:\n",
    "        if not cat in k_prepared_venues.columns:\n",
    "            k_prepared_venues[cat] = 0\n",
    "    k_prepared_venues.loc[index, row['Venue Categories']] = 1"
   ]
  },
  {
   "cell_type": "code",
   "execution_count": 94,
   "metadata": {},
   "outputs": [],
   "source": [
    "k_prepared_venues.drop(columns=['Venue Categories'], inplace=True)"
   ]
  },
  {
   "cell_type": "code",
   "execution_count": 95,
   "metadata": {},
   "outputs": [],
   "source": [
    "k_prepared_venues.drop(columns=['Venue Primary Category'], inplace=True)"
   ]
  },
  {
   "cell_type": "code",
   "execution_count": 96,
   "metadata": {},
   "outputs": [],
   "source": [
    "k_prepared_venues['Venue Is Open'] = k_prepared_venues['Venue Is Open'].apply(lambda x: 1 if x else 0)"
   ]
  },
  {
   "cell_type": "markdown",
   "metadata": {},
   "source": [
    "### Normalize data"
   ]
  },
  {
   "cell_type": "code",
   "execution_count": 97,
   "metadata": {},
   "outputs": [],
   "source": [
    "from sklearn import preprocessing"
   ]
  },
  {
   "cell_type": "code",
   "execution_count": 98,
   "metadata": {},
   "outputs": [],
   "source": [
    "scaler = preprocessing.StandardScaler().fit(k_prepared_venues.iloc[:, 4:])"
   ]
  },
  {
   "cell_type": "code",
   "execution_count": 100,
   "metadata": {},
   "outputs": [],
   "source": [
    "k_prepared_venues_norm = k_prepared_venues.copy()"
   ]
  },
  {
   "cell_type": "code",
   "execution_count": 101,
   "metadata": {},
   "outputs": [],
   "source": [
    "k_prepared_venues_norm.iloc[:, 4:] = scaler.transform(k_prepared_venues.iloc[:, 4:].astype(float))"
   ]
  },
  {
   "cell_type": "code",
   "execution_count": 112,
   "metadata": {},
   "outputs": [
    {
     "data": {
      "text/html": [
       "<div>\n",
       "<style scoped>\n",
       "    .dataframe tbody tr th:only-of-type {\n",
       "        vertical-align: middle;\n",
       "    }\n",
       "\n",
       "    .dataframe tbody tr th {\n",
       "        vertical-align: top;\n",
       "    }\n",
       "\n",
       "    .dataframe thead th {\n",
       "        text-align: right;\n",
       "    }\n",
       "</style>\n",
       "<table border=\"1\" class=\"dataframe\">\n",
       "  <thead>\n",
       "    <tr style=\"text-align: right;\">\n",
       "      <th></th>\n",
       "      <th>Region</th>\n",
       "      <th>Venue</th>\n",
       "      <th>Venue ID</th>\n",
       "      <th>Venue Address</th>\n",
       "      <th>Venue Likes</th>\n",
       "      <th>Venue Rating</th>\n",
       "      <th>Distance</th>\n",
       "      <th>Venue Is Open</th>\n",
       "      <th>Asian Restaurant</th>\n",
       "      <th>BBQ Joint</th>\n",
       "      <th>...</th>\n",
       "      <th>Bistro</th>\n",
       "      <th>Miscellaneous Shop</th>\n",
       "      <th>Breakfast Spot</th>\n",
       "      <th>Tailor Shop</th>\n",
       "      <th>Steakhouse</th>\n",
       "      <th>Noodle House</th>\n",
       "      <th>Wine Bar</th>\n",
       "      <th>Hotel</th>\n",
       "      <th>Shopping Mall</th>\n",
       "      <th>Convenience Store</th>\n",
       "    </tr>\n",
       "  </thead>\n",
       "  <tbody>\n",
       "    <tr>\n",
       "      <td>0</td>\n",
       "      <td>Amur-Nyzhnodniprovskyi</td>\n",
       "      <td>Fozzy / Фоззи</td>\n",
       "      <td>52a6c1bc11d2f10095c778b6</td>\n",
       "      <td>[ТРЦ \"Вавілон\" (вул. Маршала Малиновського, 2)...</td>\n",
       "      <td>1.030082</td>\n",
       "      <td>0.513881</td>\n",
       "      <td>-0.055152</td>\n",
       "      <td>-1.122619</td>\n",
       "      <td>-0.078087</td>\n",
       "      <td>-0.210485</td>\n",
       "      <td>...</td>\n",
       "      <td>-0.078087</td>\n",
       "      <td>-0.11077</td>\n",
       "      <td>-0.136083</td>\n",
       "      <td>-0.078087</td>\n",
       "      <td>-0.078087</td>\n",
       "      <td>-0.078087</td>\n",
       "      <td>-0.078087</td>\n",
       "      <td>-0.078087</td>\n",
       "      <td>-0.078087</td>\n",
       "      <td>-0.078087</td>\n",
       "    </tr>\n",
       "    <tr>\n",
       "      <td>1</td>\n",
       "      <td>Amur-Nyzhnodniprovskyi</td>\n",
       "      <td>Pa-Si-Ju</td>\n",
       "      <td>558cfeb5498e6a17da7dfe6f</td>\n",
       "      <td>[просп. Дмитра Яворницького, 90, Дніпро, Україна]</td>\n",
       "      <td>0.449239</td>\n",
       "      <td>0.802283</td>\n",
       "      <td>-0.663946</td>\n",
       "      <td>-1.122619</td>\n",
       "      <td>-0.078087</td>\n",
       "      <td>-0.210485</td>\n",
       "      <td>...</td>\n",
       "      <td>-0.078087</td>\n",
       "      <td>-0.11077</td>\n",
       "      <td>-0.136083</td>\n",
       "      <td>-0.078087</td>\n",
       "      <td>-0.078087</td>\n",
       "      <td>-0.078087</td>\n",
       "      <td>-0.078087</td>\n",
       "      <td>-0.078087</td>\n",
       "      <td>-0.078087</td>\n",
       "      <td>-0.078087</td>\n",
       "    </tr>\n",
       "    <tr>\n",
       "      <td>2</td>\n",
       "      <td>Amur-Nyzhnodniprovskyi</td>\n",
       "      <td>HAVE Coffee</td>\n",
       "      <td>5a2fa09e69e77b22f361c493</td>\n",
       "      <td>[просп. Дмитра Яворницького, 70а (вул. Юліуша ...</td>\n",
       "      <td>-0.164098</td>\n",
       "      <td>0.802283</td>\n",
       "      <td>-0.883948</td>\n",
       "      <td>-1.122619</td>\n",
       "      <td>-0.078087</td>\n",
       "      <td>-0.210485</td>\n",
       "      <td>...</td>\n",
       "      <td>-0.078087</td>\n",
       "      <td>-0.11077</td>\n",
       "      <td>-0.136083</td>\n",
       "      <td>-0.078087</td>\n",
       "      <td>-0.078087</td>\n",
       "      <td>-0.078087</td>\n",
       "      <td>-0.078087</td>\n",
       "      <td>-0.078087</td>\n",
       "      <td>-0.078087</td>\n",
       "      <td>-0.078087</td>\n",
       "    </tr>\n",
       "    <tr>\n",
       "      <td>3</td>\n",
       "      <td>Amur-Nyzhnodniprovskyi</td>\n",
       "      <td>Суши Набухико</td>\n",
       "      <td>5691301f498e3250c1f2ac16</td>\n",
       "      <td>[вул. Січеславська Набережна, 31-А, Дніпро, Ук...</td>\n",
       "      <td>-0.318448</td>\n",
       "      <td>0.686922</td>\n",
       "      <td>-0.725388</td>\n",
       "      <td>-1.122619</td>\n",
       "      <td>-0.078087</td>\n",
       "      <td>-0.210485</td>\n",
       "      <td>...</td>\n",
       "      <td>-0.078087</td>\n",
       "      <td>-0.11077</td>\n",
       "      <td>-0.136083</td>\n",
       "      <td>-0.078087</td>\n",
       "      <td>-0.078087</td>\n",
       "      <td>-0.078087</td>\n",
       "      <td>-0.078087</td>\n",
       "      <td>-0.078087</td>\n",
       "      <td>-0.078087</td>\n",
       "      <td>-0.078087</td>\n",
       "    </tr>\n",
       "    <tr>\n",
       "      <td>4</td>\n",
       "      <td>Amur-Nyzhnodniprovskyi</td>\n",
       "      <td>Confetti | Конфетти</td>\n",
       "      <td>5bbefb002aff31002b5f9d9b</td>\n",
       "      <td>[ул. Малиновского, 2, Дніпро, Україна]</td>\n",
       "      <td>-0.456550</td>\n",
       "      <td>0.283159</td>\n",
       "      <td>-0.092788</td>\n",
       "      <td>0.890774</td>\n",
       "      <td>-0.078087</td>\n",
       "      <td>-0.210485</td>\n",
       "      <td>...</td>\n",
       "      <td>-0.078087</td>\n",
       "      <td>-0.11077</td>\n",
       "      <td>-0.136083</td>\n",
       "      <td>-0.078087</td>\n",
       "      <td>-0.078087</td>\n",
       "      <td>-0.078087</td>\n",
       "      <td>-0.078087</td>\n",
       "      <td>-0.078087</td>\n",
       "      <td>-0.078087</td>\n",
       "      <td>-0.078087</td>\n",
       "    </tr>\n",
       "  </tbody>\n",
       "</table>\n",
       "<p>5 rows × 59 columns</p>\n",
       "</div>"
      ],
      "text/plain": [
       "                   Region                Venue                  Venue ID  \\\n",
       "0  Amur-Nyzhnodniprovskyi        Fozzy / Фоззи  52a6c1bc11d2f10095c778b6   \n",
       "1  Amur-Nyzhnodniprovskyi             Pa-Si-Ju  558cfeb5498e6a17da7dfe6f   \n",
       "2  Amur-Nyzhnodniprovskyi          HAVE Coffee  5a2fa09e69e77b22f361c493   \n",
       "3  Amur-Nyzhnodniprovskyi        Суши Набухико  5691301f498e3250c1f2ac16   \n",
       "4  Amur-Nyzhnodniprovskyi  Confetti | Конфетти  5bbefb002aff31002b5f9d9b   \n",
       "\n",
       "                                       Venue Address  Venue Likes  \\\n",
       "0  [ТРЦ \"Вавілон\" (вул. Маршала Малиновського, 2)...     1.030082   \n",
       "1  [просп. Дмитра Яворницького, 90, Дніпро, Україна]     0.449239   \n",
       "2  [просп. Дмитра Яворницького, 70а (вул. Юліуша ...    -0.164098   \n",
       "3  [вул. Січеславська Набережна, 31-А, Дніпро, Ук...    -0.318448   \n",
       "4             [ул. Малиновского, 2, Дніпро, Україна]    -0.456550   \n",
       "\n",
       "   Venue Rating  Distance  Venue Is Open  Asian Restaurant  BBQ Joint  ...  \\\n",
       "0      0.513881 -0.055152      -1.122619         -0.078087  -0.210485  ...   \n",
       "1      0.802283 -0.663946      -1.122619         -0.078087  -0.210485  ...   \n",
       "2      0.802283 -0.883948      -1.122619         -0.078087  -0.210485  ...   \n",
       "3      0.686922 -0.725388      -1.122619         -0.078087  -0.210485  ...   \n",
       "4      0.283159 -0.092788       0.890774         -0.078087  -0.210485  ...   \n",
       "\n",
       "     Bistro  Miscellaneous Shop  Breakfast Spot  Tailor Shop  Steakhouse  \\\n",
       "0 -0.078087            -0.11077       -0.136083    -0.078087   -0.078087   \n",
       "1 -0.078087            -0.11077       -0.136083    -0.078087   -0.078087   \n",
       "2 -0.078087            -0.11077       -0.136083    -0.078087   -0.078087   \n",
       "3 -0.078087            -0.11077       -0.136083    -0.078087   -0.078087   \n",
       "4 -0.078087            -0.11077       -0.136083    -0.078087   -0.078087   \n",
       "\n",
       "   Noodle House  Wine Bar     Hotel  Shopping Mall  Convenience Store  \n",
       "0     -0.078087 -0.078087 -0.078087      -0.078087          -0.078087  \n",
       "1     -0.078087 -0.078087 -0.078087      -0.078087          -0.078087  \n",
       "2     -0.078087 -0.078087 -0.078087      -0.078087          -0.078087  \n",
       "3     -0.078087 -0.078087 -0.078087      -0.078087          -0.078087  \n",
       "4     -0.078087 -0.078087 -0.078087      -0.078087          -0.078087  \n",
       "\n",
       "[5 rows x 59 columns]"
      ]
     },
     "execution_count": 112,
     "metadata": {},
     "output_type": "execute_result"
    }
   ],
   "source": [
    "k_prepared_venues_norm.head()"
   ]
  },
  {
   "cell_type": "markdown",
   "metadata": {},
   "source": [
    "### Get most preferrable venue by Euclidian distance"
   ]
  },
  {
   "cell_type": "code",
   "execution_count": 113,
   "metadata": {},
   "outputs": [],
   "source": [
    "#the most number of likes, the highest rating, opened, nearest, any location\n",
    "user_data = [k_prepared_venues['Venue Likes'].max(), 10, 1, 0]\n",
    "user_data.extend([0 for el in k_prepared_venues.columns[8:]])\n",
    "user_data = pd.DataFrame([user_data])"
   ]
  },
  {
   "cell_type": "code",
   "execution_count": 114,
   "metadata": {},
   "outputs": [
    {
     "data": {
      "text/html": [
       "<div>\n",
       "<style scoped>\n",
       "    .dataframe tbody tr th:only-of-type {\n",
       "        vertical-align: middle;\n",
       "    }\n",
       "\n",
       "    .dataframe tbody tr th {\n",
       "        vertical-align: top;\n",
       "    }\n",
       "\n",
       "    .dataframe thead th {\n",
       "        text-align: right;\n",
       "    }\n",
       "</style>\n",
       "<table border=\"1\" class=\"dataframe\">\n",
       "  <thead>\n",
       "    <tr style=\"text-align: right;\">\n",
       "      <th></th>\n",
       "      <th>0</th>\n",
       "      <th>1</th>\n",
       "      <th>2</th>\n",
       "      <th>3</th>\n",
       "      <th>4</th>\n",
       "      <th>5</th>\n",
       "      <th>6</th>\n",
       "      <th>7</th>\n",
       "      <th>8</th>\n",
       "      <th>9</th>\n",
       "      <th>...</th>\n",
       "      <th>45</th>\n",
       "      <th>46</th>\n",
       "      <th>47</th>\n",
       "      <th>48</th>\n",
       "      <th>49</th>\n",
       "      <th>50</th>\n",
       "      <th>51</th>\n",
       "      <th>52</th>\n",
       "      <th>53</th>\n",
       "      <th>54</th>\n",
       "    </tr>\n",
       "  </thead>\n",
       "  <tbody>\n",
       "    <tr>\n",
       "      <td>0</td>\n",
       "      <td>1742</td>\n",
       "      <td>10</td>\n",
       "      <td>1</td>\n",
       "      <td>0</td>\n",
       "      <td>0</td>\n",
       "      <td>0</td>\n",
       "      <td>0</td>\n",
       "      <td>0</td>\n",
       "      <td>0</td>\n",
       "      <td>0</td>\n",
       "      <td>...</td>\n",
       "      <td>0</td>\n",
       "      <td>0</td>\n",
       "      <td>0</td>\n",
       "      <td>0</td>\n",
       "      <td>0</td>\n",
       "      <td>0</td>\n",
       "      <td>0</td>\n",
       "      <td>0</td>\n",
       "      <td>0</td>\n",
       "      <td>0</td>\n",
       "    </tr>\n",
       "  </tbody>\n",
       "</table>\n",
       "<p>1 rows × 55 columns</p>\n",
       "</div>"
      ],
      "text/plain": [
       "     0   1   2   3   4   5   6   7   8   9   ...  45  46  47  48  49  50  51  \\\n",
       "0  1742  10   1   0   0   0   0   0   0   0  ...   0   0   0   0   0   0   0   \n",
       "\n",
       "   52  53  54  \n",
       "0   0   0   0  \n",
       "\n",
       "[1 rows x 55 columns]"
      ]
     },
     "execution_count": 114,
     "metadata": {},
     "output_type": "execute_result"
    }
   ],
   "source": [
    "user_data"
   ]
  },
  {
   "cell_type": "code",
   "execution_count": 115,
   "metadata": {},
   "outputs": [],
   "source": [
    "user_data_normalized = scaler.transform(user_data.astype(float))"
   ]
  },
  {
   "cell_type": "code",
   "execution_count": 116,
   "metadata": {},
   "outputs": [
    {
     "data": {
      "text/plain": [
       "array([[ 6.58667408,  1.72517124, -0.93014548, -1.12261925, -0.07808688,\n",
       "        -0.21048467, -0.26726124, -0.15762208, -0.13608276, -0.11076976,\n",
       "        -0.44232587, -0.1767767 , -0.15762208, -0.49051147, -0.13608276,\n",
       "        -0.1767767 , -0.1767767 , -0.21048467, -0.11076976, -0.11076976,\n",
       "        -0.07808688, -0.07808688, -0.15762208, -0.29244883, -0.07808688,\n",
       "        -0.13608276, -0.07808688, -0.13608276, -0.19425717, -0.13608276,\n",
       "        -0.15762208, -0.07808688, -0.30449176, -0.07808688, -0.07808688,\n",
       "        -0.29244883, -0.11076976, -0.19425717, -0.11076976, -0.07808688,\n",
       "        -0.11076976, -0.07808688, -0.07808688, -0.07808688, -0.07808688,\n",
       "        -0.07808688, -0.11076976, -0.13608276, -0.07808688, -0.07808688,\n",
       "        -0.07808688, -0.07808688, -0.07808688, -0.07808688, -0.07808688]])"
      ]
     },
     "execution_count": 116,
     "metadata": {},
     "output_type": "execute_result"
    }
   ],
   "source": [
    "user_data_normalized"
   ]
  },
  {
   "cell_type": "code",
   "execution_count": 117,
   "metadata": {},
   "outputs": [],
   "source": [
    "from sklearn.metrics.pairwise import euclidean_distances"
   ]
  },
  {
   "cell_type": "code",
   "execution_count": 119,
   "metadata": {},
   "outputs": [],
   "source": [
    "k_prepared_venues['Euclidian'] = euclidean_distances(k_prepared_venues.iloc[:, 4:], user_data_normalized)"
   ]
  },
  {
   "cell_type": "code",
   "execution_count": 124,
   "metadata": {},
   "outputs": [],
   "source": [
    "fitting_venue = k_prepared_venues.loc[k_prepared_venues['Euclidian'] == k_prepared_venues['Euclidian'].min(), 'Venue ID'].values"
   ]
  },
  {
   "cell_type": "code",
   "execution_count": 126,
   "metadata": {},
   "outputs": [
    {
     "data": {
      "text/html": [
       "<div>\n",
       "<style scoped>\n",
       "    .dataframe tbody tr th:only-of-type {\n",
       "        vertical-align: middle;\n",
       "    }\n",
       "\n",
       "    .dataframe tbody tr th {\n",
       "        vertical-align: top;\n",
       "    }\n",
       "\n",
       "    .dataframe thead th {\n",
       "        text-align: right;\n",
       "    }\n",
       "</style>\n",
       "<table border=\"1\" class=\"dataframe\">\n",
       "  <thead>\n",
       "    <tr style=\"text-align: right;\">\n",
       "      <th></th>\n",
       "      <th>Venue</th>\n",
       "      <th>Venue Address</th>\n",
       "    </tr>\n",
       "  </thead>\n",
       "  <tbody>\n",
       "    <tr>\n",
       "      <td>41</td>\n",
       "      <td>Море Пива</td>\n",
       "      <td>[Малиновского, 48, Дніпро, Україна]</td>\n",
       "    </tr>\n",
       "  </tbody>\n",
       "</table>\n",
       "</div>"
      ],
      "text/plain": [
       "        Venue                        Venue Address\n",
       "41  Море Пива  [Малиновского, 48, Дніпро, Україна]"
      ]
     },
     "execution_count": 126,
     "metadata": {},
     "output_type": "execute_result"
    }
   ],
   "source": [
    "k_prepared_venues.loc[k_prepared_venues['Venue ID'] == fitting_venue[0], ['Venue', 'Venue Address']]"
   ]
  },
  {
   "cell_type": "code",
   "execution_count": null,
   "metadata": {},
   "outputs": [],
   "source": []
  }
 ],
 "metadata": {
  "kernelspec": {
   "display_name": "Python 3",
   "language": "python",
   "name": "python3"
  },
  "language_info": {
   "codemirror_mode": {
    "name": "ipython",
    "version": 3
   },
   "file_extension": ".py",
   "mimetype": "text/x-python",
   "name": "python",
   "nbconvert_exporter": "python",
   "pygments_lexer": "ipython3",
   "version": "3.7.4"
  }
 },
 "nbformat": 4,
 "nbformat_minor": 2
}
