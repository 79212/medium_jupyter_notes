{
 "cells": [
  {
   "cell_type": "markdown",
   "metadata": {},
   "source": [
    "# 5 Simple Python Ways to Open and Read Your Dataset"
   ]
  },
  {
   "cell_type": "code",
   "execution_count": 1,
   "metadata": {},
   "outputs": [],
   "source": [
    "import string"
   ]
  },
  {
   "cell_type": "code",
   "execution_count": 2,
   "metadata": {},
   "outputs": [],
   "source": [
    "file1 = \"SMSSpamCollection\"\n",
    "file2 = 'sat_water_table.txt'"
   ]
  },
  {
   "cell_type": "markdown",
   "metadata": {},
   "source": [
    "## Read as average file"
   ]
  },
  {
   "cell_type": "code",
   "execution_count": 3,
   "metadata": {},
   "outputs": [],
   "source": [
    "content_lines = []"
   ]
  },
  {
   "cell_type": "code",
   "execution_count": 4,
   "metadata": {
    "scrolled": true
   },
   "outputs": [],
   "source": [
    "with open(file1, \"r\", encoding='utf-8') as content:\n",
    "    for line in content:\n",
    "        content_lines.append(line.translate(str.maketrans(' ',' ', string.punctuation)).lower().split()[1:])"
   ]
  },
  {
   "cell_type": "code",
   "execution_count": 5,
   "metadata": {},
   "outputs": [
    {
     "name": "stdout",
     "output_type": "stream",
     "text": [
      "['go', 'until', 'jurong', 'point', 'crazy', 'available', 'only', 'in', 'bugis', 'n', 'great', 'world', 'la', 'e', 'buffet', 'cine', 'there', 'got', 'amore', 'wat']\n"
     ]
    }
   ],
   "source": [
    "print(content_lines[0])"
   ]
  },
  {
   "cell_type": "markdown",
   "metadata": {},
   "source": [
    "## Read file with custom encoding"
   ]
  },
  {
   "cell_type": "code",
   "execution_count": 6,
   "metadata": {},
   "outputs": [],
   "source": [
    "content_codecs = []"
   ]
  },
  {
   "cell_type": "code",
   "execution_count": 7,
   "metadata": {},
   "outputs": [],
   "source": [
    "import codecs\n",
    "\n",
    "with codecs.open(file1, 'r', encoding='utf-8' ) as content:\n",
    "    while True:\n",
    "        line = content.readline()\n",
    "        if not line:\n",
    "            break\n",
    "        content_codecs.append(line.translate(str.maketrans(' ',' ', string.punctuation)).lower().split()[1:])"
   ]
  },
  {
   "cell_type": "code",
   "execution_count": 8,
   "metadata": {},
   "outputs": [
    {
     "name": "stdout",
     "output_type": "stream",
     "text": [
      "['go', 'until', 'jurong', 'point', 'crazy', 'available', 'only', 'in', 'bugis', 'n', 'great', 'world', 'la', 'e', 'buffet', 'cine', 'there', 'got', 'amore', 'wat']\n"
     ]
    }
   ],
   "source": [
    "print(content_codecs[0])"
   ]
  },
  {
   "cell_type": "markdown",
   "metadata": {},
   "source": [
    "## Read with standard csv reader"
   ]
  },
  {
   "cell_type": "code",
   "execution_count": 9,
   "metadata": {},
   "outputs": [],
   "source": [
    "content_csv_space = []\n",
    "content_csv_tab = []"
   ]
  },
  {
   "cell_type": "code",
   "execution_count": 10,
   "metadata": {},
   "outputs": [],
   "source": [
    "import csv\n",
    "\n",
    "with open(file1, newline='', encoding='utf-8') as csvfile:\n",
    "    spamreader_space = csv.reader(csvfile, delimiter=' ')\n",
    "    for row in spamreader_space:\n",
    "        content_csv_space.append(row)\n",
    "\n",
    "with open(file1, newline='', encoding='utf-8') as csvfile:\n",
    "    spamreader_tab = csv.reader(csvfile, delimiter='\\t')\n",
    "    for row in spamreader_tab:\n",
    "        content_csv_tab.append(row)"
   ]
  },
  {
   "cell_type": "code",
   "execution_count": 11,
   "metadata": {},
   "outputs": [
    {
     "name": "stdout",
     "output_type": "stream",
     "text": [
      "['ham\\tGo', 'until', 'jurong', 'point,', 'crazy..', 'Available', 'only', 'in', 'bugis', 'n', 'great', 'world', 'la', 'e', 'buffet...', 'Cine', 'there', 'got', 'amore', 'wat...']\n",
      "['ham', 'Go until jurong point, crazy.. Available only in bugis n great world la e buffet... Cine there got amore wat...']\n"
     ]
    }
   ],
   "source": [
    "print(content_csv_space[0])\n",
    "print(content_csv_tab[0])"
   ]
  },
  {
   "cell_type": "markdown",
   "metadata": {},
   "source": [
    "## Read with pandas"
   ]
  },
  {
   "cell_type": "code",
   "execution_count": 12,
   "metadata": {},
   "outputs": [],
   "source": [
    "import pandas as pd\n",
    "\n",
    "table_numbers = pd.read_table(file2, delimiter='\\t')"
   ]
  },
  {
   "cell_type": "code",
   "execution_count": 13,
   "metadata": {},
   "outputs": [
    {
     "data": {
      "text/html": [
       "<div>\n",
       "<style scoped>\n",
       "    .dataframe tbody tr th:only-of-type {\n",
       "        vertical-align: middle;\n",
       "    }\n",
       "\n",
       "    .dataframe tbody tr th {\n",
       "        vertical-align: top;\n",
       "    }\n",
       "\n",
       "    .dataframe thead th {\n",
       "        text-align: right;\n",
       "    }\n",
       "</style>\n",
       "<table border=\"1\" class=\"dataframe\">\n",
       "  <thead>\n",
       "    <tr style=\"text-align: right;\">\n",
       "      <th></th>\n",
       "      <th>Temperature, degC</th>\n",
       "      <th>Pressure, bar</th>\n",
       "      <th>hf, kJ/kg</th>\n",
       "      <th>hg, kJ/kg</th>\n",
       "      <th>sf, kJ/(kg K)</th>\n",
       "      <th>sg, kJ/(kg K)</th>\n",
       "      <th>vf, m^3/kg</th>\n",
       "      <th>vg, m^3/kg</th>\n",
       "    </tr>\n",
       "  </thead>\n",
       "  <tbody>\n",
       "    <tr>\n",
       "      <th>0</th>\n",
       "      <td>0.01</td>\n",
       "      <td>0.006117</td>\n",
       "      <td>0.000612</td>\n",
       "      <td>2500.910995</td>\n",
       "      <td>0.000000</td>\n",
       "      <td>9.155491</td>\n",
       "      <td>0.001000</td>\n",
       "      <td>205.997459</td>\n",
       "    </tr>\n",
       "    <tr>\n",
       "      <th>1</th>\n",
       "      <td>4.00</td>\n",
       "      <td>0.008135</td>\n",
       "      <td>16.812717</td>\n",
       "      <td>2508.237465</td>\n",
       "      <td>0.061101</td>\n",
       "      <td>9.050556</td>\n",
       "      <td>0.001000</td>\n",
       "      <td>157.121332</td>\n",
       "    </tr>\n",
       "    <tr>\n",
       "      <th>2</th>\n",
       "      <td>5.00</td>\n",
       "      <td>0.008726</td>\n",
       "      <td>21.019356</td>\n",
       "      <td>2510.071717</td>\n",
       "      <td>0.076252</td>\n",
       "      <td>9.024859</td>\n",
       "      <td>0.001000</td>\n",
       "      <td>147.016865</td>\n",
       "    </tr>\n",
       "    <tr>\n",
       "      <th>3</th>\n",
       "      <td>6.00</td>\n",
       "      <td>0.009354</td>\n",
       "      <td>25.223663</td>\n",
       "      <td>2511.905130</td>\n",
       "      <td>0.091340</td>\n",
       "      <td>8.999397</td>\n",
       "      <td>0.001000</td>\n",
       "      <td>137.638180</td>\n",
       "    </tr>\n",
       "    <tr>\n",
       "      <th>4</th>\n",
       "      <td>8.00</td>\n",
       "      <td>0.010730</td>\n",
       "      <td>33.626017</td>\n",
       "      <td>2515.569328</td>\n",
       "      <td>0.121332</td>\n",
       "      <td>8.949167</td>\n",
       "      <td>0.001000</td>\n",
       "      <td>120.834430</td>\n",
       "    </tr>\n",
       "    <tr>\n",
       "      <th>...</th>\n",
       "      <td>...</td>\n",
       "      <td>...</td>\n",
       "      <td>...</td>\n",
       "      <td>...</td>\n",
       "      <td>...</td>\n",
       "      <td>...</td>\n",
       "      <td>...</td>\n",
       "      <td>...</td>\n",
       "    </tr>\n",
       "    <tr>\n",
       "      <th>65</th>\n",
       "      <td>300.00</td>\n",
       "      <td>85.877083</td>\n",
       "      <td>1344.771339</td>\n",
       "      <td>2749.573743</td>\n",
       "      <td>3.254741</td>\n",
       "      <td>5.705764</td>\n",
       "      <td>0.001404</td>\n",
       "      <td>0.021663</td>\n",
       "    </tr>\n",
       "    <tr>\n",
       "      <th>66</th>\n",
       "      <td>320.00</td>\n",
       "      <td>112.838559</td>\n",
       "      <td>1462.051009</td>\n",
       "      <td>2700.667687</td>\n",
       "      <td>3.449116</td>\n",
       "      <td>5.537319</td>\n",
       "      <td>0.001499</td>\n",
       "      <td>0.015476</td>\n",
       "    </tr>\n",
       "    <tr>\n",
       "      <th>67</th>\n",
       "      <td>340.00</td>\n",
       "      <td>146.001811</td>\n",
       "      <td>1594.446570</td>\n",
       "      <td>2622.066748</td>\n",
       "      <td>3.659949</td>\n",
       "      <td>5.335912</td>\n",
       "      <td>0.001638</td>\n",
       "      <td>0.010784</td>\n",
       "    </tr>\n",
       "    <tr>\n",
       "      <th>68</th>\n",
       "      <td>360.00</td>\n",
       "      <td>186.663711</td>\n",
       "      <td>1761.491759</td>\n",
       "      <td>2481.000000</td>\n",
       "      <td>3.916358</td>\n",
       "      <td>5.052600</td>\n",
       "      <td>0.001895</td>\n",
       "      <td>0.006945</td>\n",
       "    </tr>\n",
       "    <tr>\n",
       "      <th>69</th>\n",
       "      <td>374.14</td>\n",
       "      <td>220.900000</td>\n",
       "      <td>2099.300000</td>\n",
       "      <td>2099.300000</td>\n",
       "      <td>4.429800</td>\n",
       "      <td>4.429800</td>\n",
       "      <td>0.003155</td>\n",
       "      <td>0.003155</td>\n",
       "    </tr>\n",
       "  </tbody>\n",
       "</table>\n",
       "<p>70 rows × 8 columns</p>\n",
       "</div>"
      ],
      "text/plain": [
       "    Temperature, degC    Pressure, bar    hf, kJ/kg    hg, kJ/kg   \\\n",
       "0                 0.01         0.006117     0.000612  2500.910995   \n",
       "1                 4.00         0.008135    16.812717  2508.237465   \n",
       "2                 5.00         0.008726    21.019356  2510.071717   \n",
       "3                 6.00         0.009354    25.223663  2511.905130   \n",
       "4                 8.00         0.010730    33.626017  2515.569328   \n",
       "..                 ...              ...          ...          ...   \n",
       "65              300.00        85.877083  1344.771339  2749.573743   \n",
       "66              320.00       112.838559  1462.051009  2700.667687   \n",
       "67              340.00       146.001811  1594.446570  2622.066748   \n",
       "68              360.00       186.663711  1761.491759  2481.000000   \n",
       "69              374.14       220.900000  2099.300000  2099.300000   \n",
       "\n",
       "     sf, kJ/(kg K)    sg, kJ/(kg K)    vf, m^3/kg    vg, m^3/kg   \n",
       "0          0.000000         9.155491      0.001000    205.997459  \n",
       "1          0.061101         9.050556      0.001000    157.121332  \n",
       "2          0.076252         9.024859      0.001000    147.016865  \n",
       "3          0.091340         8.999397      0.001000    137.638180  \n",
       "4          0.121332         8.949167      0.001000    120.834430  \n",
       "..              ...              ...           ...           ...  \n",
       "65         3.254741         5.705764      0.001404      0.021663  \n",
       "66         3.449116         5.537319      0.001499      0.015476  \n",
       "67         3.659949         5.335912      0.001638      0.010784  \n",
       "68         3.916358         5.052600      0.001895      0.006945  \n",
       "69         4.429800         4.429800      0.003155      0.003155  \n",
       "\n",
       "[70 rows x 8 columns]"
      ]
     },
     "execution_count": 13,
     "metadata": {},
     "output_type": "execute_result"
    }
   ],
   "source": [
    "table_numbers"
   ]
  },
  {
   "cell_type": "markdown",
   "metadata": {},
   "source": [
    "## Read with numpy"
   ]
  },
  {
   "cell_type": "code",
   "execution_count": 14,
   "metadata": {},
   "outputs": [],
   "source": [
    "import numpy as np\n",
    "np_numbers = np.loadtxt('sat_water_table.txt', skiprows=1, delimiter='\\t')"
   ]
  },
  {
   "cell_type": "code",
   "execution_count": 15,
   "metadata": {},
   "outputs": [
    {
     "data": {
      "text/plain": [
       "array([[   0.01      ,    0.00611657,    0.00061178, 2500.91099464,\n",
       "           0.        ,    9.15549147,    0.00100021,  205.99745949],\n",
       "       [   4.        ,    0.00813549,   16.8127173 , 2508.23746453,\n",
       "           0.06110098,    9.05055623,    0.00100007,  157.12133225]])"
      ]
     },
     "execution_count": 15,
     "metadata": {},
     "output_type": "execute_result"
    }
   ],
   "source": [
    "np.set_printoptions(suppress=True)\n",
    "np_numbers[:2]"
   ]
  },
  {
   "cell_type": "code",
   "execution_count": null,
   "metadata": {},
   "outputs": [],
   "source": []
  }
 ],
 "metadata": {
  "kernelspec": {
   "display_name": "Python 3",
   "language": "python",
   "name": "python3"
  },
  "language_info": {
   "codemirror_mode": {
    "name": "ipython",
    "version": 3
   },
   "file_extension": ".py",
   "mimetype": "text/x-python",
   "name": "python",
   "nbconvert_exporter": "python",
   "pygments_lexer": "ipython3",
   "version": "3.7.4"
  }
 },
 "nbformat": 4,
 "nbformat_minor": 4
}
